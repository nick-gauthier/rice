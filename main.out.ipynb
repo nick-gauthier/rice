{
 "cells": [
  {
   "cell_type": "markdown",
   "metadata": {},
   "source": [
    "# Projected warming will exceed the long-term thermal limits of rice\n",
    "\n",
    "cultivation\n",
    "\n",
    "Nicolas Gauthier (University of Florida, Florida Museum of Natural History)  \n",
    "Ornob Alam (New York University, Center for Genomics and Systems Biology)  \n",
    "Michael D. Purugganan (New York University, Center for Genomics and Systems Biology, New York University, Center for the Study of the Ancient World)  \n",
    "Jade d’Alpoim-Guedes (University of Washington, Department of Anthropology)\n",
    "\n",
    "Rice is a staple food for a significant portion of the global population, particularly in Asia, where over one billion people rely on it for daily subsistence. Understanding rice’s historical thermal limits is imperative for predicting how it will respond to future shifts in global climate. Here, we integrate diverse records of contemporary rice cultivation extent, archaeological data spanning rice’s long-term history since its earliest cultivation, and temperature projections for the past, present, and future to assess how warm temperatures have influenced and may continue to influence rice’s geographical distribution, productivity, and the adaptive strategies employed by human societies to sustain this important crop. Our findings indicate a consistent pattern over the past 10,000 years: domesticated Asian rice varieties have seldom thrived in regions where the mean annual temperature exceeds 28°C or warm-season maximum temperature exceeds 33°C. By the end of this century, climate projections estimate that the land area exceeding this thermal threshold in Asia’s major rice-producing nations could expand by ten to thirty times. Our findings have significant implications for global food security, as regions heavily reliant on rice cultivation may encounter unprecedented challenges in staple crop production under projected warming."
   ],
   "id": "b2feb679-fdc7-4d01-b4a0-06114122d131"
  },
  {
   "cell_type": "code",
   "execution_count": null,
   "metadata": {},
   "outputs": [
    {
     "output_type": "stream",
     "name": "stderr",
     "text": [
      "── Attaching core tidyverse packages ──────────────────────── tidyverse 2.0.0 ──\n",
      "✔ dplyr     1.1.4     ✔ readr     2.1.5\n",
      "✔ forcats   1.0.0     ✔ stringr   1.5.1\n",
      "✔ ggplot2   3.5.2     ✔ tibble    3.3.0\n",
      "✔ lubridate 1.9.4     ✔ tidyr     1.3.1\n",
      "✔ purrr     1.1.0     \n",
      "── Conflicts ────────────────────────────────────────── tidyverse_conflicts() ──\n",
      "✖ dplyr::filter() masks stats::filter()\n",
      "✖ dplyr::lag()    masks stats::lag()\n",
      "ℹ Use the conflicted package (<http://conflicted.r-lib.org/>) to force all conflicts to become errors"
     ]
    },
    {
     "output_type": "stream",
     "name": "stderr",
     "text": [
      "Linking to GEOS 3.13.1, GDAL 3.11.3, PROJ 9.6.0; sf_use_s2() is TRUE"
     ]
    },
    {
     "output_type": "stream",
     "name": "stderr",
     "text": [
      "Loading required package: abind"
     ]
    },
    {
     "output_type": "stream",
     "name": "stderr",
     "text": [
      "\n",
      "Attaching package: 'rnaturalearthdata'\n",
      "\n",
      "The following object is masked from 'package:rnaturalearth':\n",
      "\n",
      "    countries110"
     ]
    },
    {
     "output_type": "stream",
     "name": "stderr",
     "text": [
      "here() starts at /Users/nick/UFL Dropbox/Nicolas Gauthier/Projects/rice"
     ]
    },
    {
     "output_type": "stream",
     "name": "stderr",
     "text": [
      "udunits database from /Users/nick/Library/Caches/org.R-project.R/R/renv/cache/v5/macos/R-4.4/aarch64-apple-darwin20/units/0.8-7/5d0b024902d5da97a2b64f002e92a869/units/share/udunits/udunits2.xml"
     ]
    },
    {
     "output_type": "stream",
     "name": "stderr",
     "text": [
      "Spherical geometry (s2) switched off"
     ]
    },
    {
     "output_type": "stream",
     "name": "stderr",
     "text": [
      "although coordinates are longitude/latitude, st_intersection assumes that they\n",
      "are planar"
     ]
    },
    {
     "output_type": "stream",
     "name": "stderr",
     "text": [
      "Warning: attribute variables are assumed to be spatially constant throughout\n",
      "all geometries"
     ]
    },
    {
     "output_type": "stream",
     "name": "stderr",
     "text": [
      "although coordinates are longitude/latitude, st_intersection assumes that they\n",
      "are planar"
     ]
    },
    {
     "output_type": "stream",
     "name": "stderr",
     "text": [
      "Warning: attribute variables are assumed to be spatially constant throughout\n",
      "all geometries"
     ]
    },
    {
     "output_type": "stream",
     "name": "stderr",
     "text": [
      "although coordinates are longitude/latitude, st_intersection assumes that they\n",
      "are planar"
     ]
    },
    {
     "output_type": "stream",
     "name": "stderr",
     "text": [
      "Warning: attribute variables are assumed to be spatially constant throughout\n",
      "all geometries"
     ]
    },
    {
     "output_type": "stream",
     "name": "stderr",
     "text": [
      "although coordinates are longitude/latitude, st_intersection assumes that they\n",
      "are planar"
     ]
    },
    {
     "output_type": "stream",
     "name": "stderr",
     "text": [
      "Warning: attribute variables are assumed to be spatially constant throughout\n",
      "all geometries"
     ]
    },
    {
     "output_type": "stream",
     "name": "stderr",
     "text": [
      "although coordinates are longitude/latitude, st_intersection assumes that they\n",
      "are planar"
     ]
    },
    {
     "output_type": "stream",
     "name": "stderr",
     "text": [
      "Warning: attribute variables are assumed to be spatially constant throughout\n",
      "all geometries"
     ]
    },
    {
     "output_type": "stream",
     "name": "stderr",
     "text": [
      "Spherical geometry (s2) switched on"
     ]
    }
   ],
   "source": [
    "#knitr::opts_chunk$set(dev = 'png', echo = FALSE, results = FALSE, message = FALSE, warning = FALSE)\n",
    "\n",
    "library(tidyverse)"
   ],
   "id": "3d0af9ec-424a-4955-bd9f-ed045d4202ae"
  },
  {
   "cell_type": "markdown",
   "metadata": {},
   "source": [
    "\u000c\n",
    "\n",
    "# Introduction\n",
    "\n",
    "Members of the grass family (*Poaceae*), which include staples like rice, maize, wheat, and barley, provide a majority of the global human caloric intake. However, these crops face a looming threat: the rate of anticipated climate change eclipses that of historical niche adaptations in grasses. By 2070, temperatures are projected to rise at a rate 5,000 times faster than what most varieties of *Poaceae* have experienced throughout their evolution ([*1*](#ref-cang2016)). Historically, *Poaceae* experienced temperature shifts ranging from 1-8°C per million years, yet future projections anticipate changes as swift as 0.02°C annually ([*1*](#ref-cang2016)). Among these vital crops, domesticated Asian rice (*Oryza sativa*) serves as a primary food source for over half the global population. More than 90% of the world’s rice is grown in Asia, and one fifth of the world’s population—more than 1 billion people—depend on rice cultivation for their livelihood.\n",
    "\n",
    "*Oryza sativa* has a deep history of cultivation and domestication beginning at least 7,000 years ago. Over the course of its domestication and subsequent spread, Asian rice has made several adaptations to changes in climate and has expanded well beyond its original range of cultivation. Yet despite this expansion, rice exhibits a high degree of niche conservatism compared to its wild progenitor ([*2*](#ref-yang2022)). Although human selection—and, in recent decades, scientific breeding—can accelerate the development of new traits far more rapidly than the thousands of years wild plant species often require to adapt to new climatic conditions, these advances have not successfully expanded rice’s thermal tolerance. Notably, as global temperatures rise, rice farming has shifted from warmer areas to cooler ones rather than adapting to increased heat ([*3*](#ref-sloat2020)). Apparent increases in rice’s harvested area over recent decades largely reflect advances in farming technology rather than an expansion of its climatic tolerance. For example, rice cultivation in the People’s Republic of China has gradually extended northward from Central China into cooler regions, a shift that, combined with intensified irrigation in the country’s hottest zones, has modestly increased rice yields and masked the adverse effects of rising temperatures ([*3*](#ref-sloat2020), [*4*](#ref-wang2019)).\n",
    "\n",
    "While some areas may benefit from warming temperatures ([*5*](#ref-gao2025cost)), this trend is not universal. In many regions, smallholder farmers rely on rice cultivation as their main source of income. Indeed, mismatches between rice-harvested areas and overall environmental suitability suggest that subsistence farming in low-income regions has already stretched rice cultivation to its climatic boundaries ([*6*](#ref-mahaut2022)). To put this into perspective, projections indicate that 15-40% of India’s current rainfed rice cultivation zones will experience a reduction in climatic suitability by 2050 ([*7*](#ref-singh2017)). Since 1974, 88% of rice-harvested areas show significant shifts in yield due to climatic factors, with climate change reducing consumable food calories from rice by 0.4% compared to historical climate conditions ([*8*](#ref-ray2019)).\n",
    "\n",
    "However, these findings are constrained by the current distributions of rice cultivation and prevailing temperature. Few regions of the world today experience the elevated temperatures projected in many future climate-change scenarios. This makes it challenging to distinguish between inherent thermal limits for rice growth and the practical geographic constraints set by recent temperature distributions ([*9*](#ref-welch2010), [*10*](#ref-soberón2017)). Global temperatures have already exceeded known temperatures over the past 2,000 years and we are living in the warmest centuries of at least the past 100,000 years ([*11*](#ref-masson-delmotte2021)). Contemporary studies of the thermal niche of rice have provided crucial insights into specific regions and production systems, but those with a global scope have often been reliant on limited datasets that may not capture the full diversity of rice distributions. Challenges include the potential underrepresentation of temperate rice varieties in China, uneven sampling of rainfed or upland varieties, and the geographic scope of the studies, which do not always encompass broad thermal ranges ([*4*](#ref-wang2019), [*7*](#ref-singh2017), [*9*](#ref-welch2010)). Archaeological studies have been instrumental in documenting the timing and geographic trajectory of rice’s domestication and spread across Asia ([*12*](#ref-fuller2009)–[*16*](#ref-weber2010)). Recent integration of archaeological rice records with spatial paleoclimate reconstructions has revealed that climate change played a major role in the early diversification and spread of rice ([*17*](#ref-dalpoimguedes2018), [*18*](#ref-gutaker2020)), but the implications for rice’s future adaptability have yet to be fully explored.\n",
    "\n",
    "Here, we integrate multiple lines of evidence from the extensive history of rice cultivation to characterize the thermal range of rice and gauge its potential adaptability to impending climate changes. By integrating diverse records of the current extent of rice cultivation with archaeological data on the distribution of rice since its earliest cultivation and domestication, we aim to establish *O. sativa’s* thermal limits—the temperature conditions under which rice has been consistently cultivated throughout its domestication history. We estimate long-term thermal limits associated with rice cultivation by comparing contemporary estimates of rice extent with well-dated archaeological rice occurrences, and complement this with genetic analyses of adaptation potential in rice subspecies. We focus specifically on Asian rice (*O. sativa*) rather than African rice (*O. glaberrima*), as Asian rice comprises the vast majority of global production and consumption and has the extensive archaeological record necessary for long-term analysis. We use these results to assess the impact of projected climate changes by the end of this century. Together, our analyses confirm that imminent changes in climate conditions may force large regions of today’s primary rice producers to confront mean annual, seasonal, and monthly peak temperatures unprecedented in the history of rice cultivation and domestication.\n",
    "\n",
    "# Results\n",
    "\n",
    "We assess thermal limits on rice growth by comparing contemporary rice extents estimated from satellite imagery, agricultural censuses, and herbarium collections to indicators of annual and seasonal temperature (<a href=\"#fig-overview\" class=\"quarto-xref\">Figure 1</a>). Our analysis combines present-day rice extent data from diverse sources: satellite-based assessments of paddy rice extent in Asia ([*19*](#ref-nelson2015)), hybrid satellite/census evaluations of global paddy rice cropping areas around the year 2000 ([*20*](#ref-monfreda2008)), and global point occurrences derived from herbarium records and germplasm accessions ([*22*](#ref-ramirez-villegas2022)). These datasets span a range of spatial scales, time periods, production systems (e.g. irrigated vs. rainfed), and data collection methods with complementary biases, allowing us to test the robustness of these thermal limits across methodologically independent data sources. We supplement this empirical work with reviews of rice’s response to warm temperatures from prior field and lab-based agronomic studies."
   ],
   "id": "c7e2bee9-ada4-4cce-a1ba-ff51644c2387"
  },
  {
   "cell_type": "code",
   "execution_count": null,
   "metadata": {},
   "outputs": [
    {
     "output_type": "stream",
     "name": "stderr",
     "text": [
      "Warning: Removed 309243 rows containing missing values or values outside the scale range\n",
      "(`geom_raster()`)."
     ]
    },
    {
     "output_type": "display_data",
     "metadata": {},
     "data": {}
    }
   ],
   "source": [
    "a <- ggplot(irri_occ) +\n",
    "  geom_sf(data = countries, color = NA) +\n",
    "  geom_sf(size = 0.01, alpha = 0.1) +\n",
    "  geom_sf(data = arch_trace_dat |> \n",
    "  group_by(geometry) |> \n",
    "  summarize(), color = 'red', size = .5) +\n",
    "  coord_sf(expand = FALSE)\n",
    "\n",
    "b <- ggplot(occ_dat) +\n",
    "  geom_sf(data = countries_world, color = NA) +\n",
    "  geom_sf(size = 0.05, alpha = 0.5) +\n",
    "  coord_sf(expand = FALSE)\n",
    "\n",
    "c <- ggplot(monfreda_occ) +\n",
    "  geom_sf(data = countries_world, color = NA) +\n",
    "  geom_sf(size = 0.0001, alpha = 0.1) +\n",
    "  coord_sf(expand = FALSE)\n",
    "\n",
    "d <- ggplot() +\n",
    "  geom_stars(data = chelsa[countries_small]) +\n",
    "  facet_wrap(~attributes, nrow = 1) +\n",
    "  scale_fill_viridis_c(option = 'magma', name = '°C', na.value = NA, limits = c(0, NA), oob = scales::squish, labels = function(x) ifelse(x == 0, \"<0\", x)) +\n",
    "  geom_sf(data = coasts) +\n",
    "  labs(x = '', y = '') +\n",
    "  coord_sf(expand = FALSE)\n",
    "\n",
    "(a + (b / c)) / d + plot_annotation(tag_levels = 'A', tag_suffix = ')') + plot_layout(heights = c(1.51))"
   ],
   "id": "cell-fig-overview"
  },
  {
   "cell_type": "markdown",
   "metadata": {},
   "source": [
    "We define the “thermal limits” of rice cultivation as the 95% central range of three temperature indicators at all sampled rice occurrence locations in a given dataset—the temperature thresholds beyond which the likelihood of rice cultivation significantly deceases due to a combination of physiological, cultural, and economic factors. This empirical approach emphasizes the long-term feasibility of crop cultivation rather than short-term variations in yield or harvested area. By focusing on these broader climatic measures, we can integrate a wider array of data sources from the past and present to reveal the upper temperature thresholds of rice cultivation over time.\n",
    "\n",
    "Our approach offers a parsimonious tool for estimating future crop suitability ([*26*](#ref-hatfield2011), [*27*](#ref-Gourdji2012)) that complements process-based crop models. While such models can extrapolate yield responses to climate change, they are sensitive to assumptions about meteorological inputs, agronomic and physiological parameters, and cultural practices like planting dates and varietal preferences over the long term ([*28*](#ref-zhang2008)–[*32*](#ref-heinicke2022)). Translating these localized projections to global scales introduces additional challenges, as does calibrating and validating their outputs using limited and inconsistent yield data from the recent or more distant past. Ultimately, a better understanding of baseline thermal limits and their uncertainty through time and space can contribute to the development of future process-based models, many of which incorporate temperature thresholds for pivotal crop development phases.\n",
    "\n",
    "We focus primarily on temperature rather than precipitation or soil moisture, as water availability can be more readily controlled through human interventions such as irrigation and paddy field construction. These adaptations have allowed rice cultivation to expand beyond its original aquatic and semi-aquatic environments. In contrast, adapting to new thermal conditions is more challenging and often requires changes in planting dates or crop varieties, which have their own limitations, particularly in higher latitudes where daylight variations restrict growing seasons."
   ],
   "id": "deae1ced-cadd-4913-9c3a-766f5a56952a"
  },
  {
   "cell_type": "code",
   "execution_count": null,
   "metadata": {},
   "outputs": [],
   "source": [
    "fig2_dat <- irri_occ %>%\n",
    "  st_drop_geometry() %>%\n",
    "  select(bio1, bio5, bio10) %>%\n",
    "  mutate(across(everything(), ~set_units(.x, 'degree_C')))\n",
    "\n",
    "quantiles <- c(0.01, 0.025, 0.05, 0.1, 0.9, 0.95, 0.975, 0.99)\n",
    "\n",
    "quants_mod <- fig2_dat %>%\n",
    "  reframe(across(everything(), \n",
    "                   ~quantile(.x, quantiles, type = 8))) %>%\n",
    "  round(1) %>%\n",
    "  mutate(quantile = quantiles, .before = 1)\n",
    "\n",
    "quant_975 <- filter(quants_mod, quantile == 0.975)\n",
    "bio1_limit <- quant_975$bio1\n",
    "bio5_limit <- quant_975$bio5\n",
    "bio10_limit <- quant_975$bio10"
   ],
   "id": "5602cb23-cb14-4f38-b352-54e3d342e08b"
  },
  {
   "cell_type": "markdown",
   "metadata": {},
   "source": [
    "## Contemporary rice extents are constrained by high temperatures\n",
    "\n",
    "Contemporary rice extents fall within a relatively restricted thermal range. We use mean annual temperature (MAT), mean maximum daily temperature of the warmest quarter (TWARM), and mean maximum daily temperature of the warmest month (TMAX) to estimate upper boundary temperatures for contemporary rice occurrences. The vast majority of contemporary rice is grown in regions with MAT below 28.2℃, TWARM of 32.7℃, and TMAX of 40.4℃ (<a href=\"#fig-kde-modern\" class=\"quarto-xref\">Figure 2</a>). Although we primarily report results from the satellite-based estimates of lowland rice extent over Asia produced by the International Rice Research Institute ([*19*](#ref-nelson2015)) due to its favorable balance of spatial resolution and extent, results from other rice extent datasets with variable spatial extent, resolution, and time span are consistent with these findings (Supplementary <a href=\"#tbl-quantiles\" class=\"quarto-xref\">Table 1</a>). There is much more variability across data sources in lower temperature thresholds—reflecting the greater adaptability of rice to colder temperatures through breeding, management, and growing season—than upper temperature thresholds."
   ],
   "id": "bad63d95-9c7e-4ba1-905a-8c133f6d4d17"
  },
  {
   "cell_type": "code",
   "execution_count": null,
   "metadata": {},
   "outputs": [
    {
     "output_type": "stream",
     "name": "stderr",
     "text": [
      "Picking joint bandwidth of 0.339"
     ]
    },
    {
     "output_type": "stream",
     "name": "stderr",
     "text": [
      "Warning: Use of the `vline_size` or `size` aesthetic are deprecated, please use\n",
      "`linewidth` instead of `size` and `vline_width` instead of `vline_size`."
     ]
    },
    {
     "output_type": "stream",
     "name": "stderr",
     "text": [
      "Warning: Use of the `vline_size` aesthetics is deprecated, please use\n",
      "`vline_width` instead of `vline_size`.\n",
      "Warning: Use of the `vline_size` aesthetics is deprecated, please use\n",
      "`vline_width` instead of `vline_size`.\n",
      "Warning: Use of the `vline_size` aesthetics is deprecated, please use\n",
      "`vline_width` instead of `vline_size`."
     ]
    },
    {
     "output_type": "stream",
     "name": "stderr",
     "text": [
      "Warning: Removed 41 rows containing non-finite outside the scale range\n",
      "(`stat_density2d()`)."
     ]
    },
    {
     "output_type": "display_data",
     "metadata": {},
     "data": {}
    }
   ],
   "source": [
    "a <- fig2_dat %>%\n",
    "  pivot_longer(bio1:bio10, names_to = 'var') %>%\n",
    "  mutate(name = factor(case_when(var == 'bio1' ~ 'Mean annual',\n",
    "                                 var == 'bio5' ~  'Max month',\n",
    "                                 var == 'bio10' ~  'Max quarter'),\n",
    "                        levels = c('Mean annual', \n",
    "                                   'Max quarter',\n",
    "                                   'Max month'))) %>%\n",
    "  ggplot(aes(value, name)) +\n",
    "  scale_y_discrete(limits = rev) +\n",
    "  geom_density_ridges(alpha = 0.75, \n",
    "                      scale = 1, \n",
    "                      jittered_points = TRUE, \n",
    "                      position = 'raincloud', \n",
    "                      point_alpha = 0.02, \n",
    "                      point_size = 0.5, \n",
    "                      quantile_lines = TRUE, \n",
    "                      vline_size = .8,\n",
    "                      quantiles = c(0.025, 0.975))+\n",
    "  labs(x = 'Temperature', y = '') +\n",
    "  theme(axis.text.y = element_text(vjust = 0)) +\n",
    "  coord_cartesian(clip = 'off')\n",
    "\n",
    "b <- fig2_dat %>%\n",
    "  ggplot(aes(bio1, bio5)) +\n",
    "  stat_density_2d(geom = 'polygon', aes(alpha = after_stat(level))) +\n",
    "  labs(x = 'Mean annual temperature', y = 'Max temp. of warmest month') +\n",
    "  scale_alpha_continuous(guide = 'none') +\n",
    "  coord_fixed() +\n",
    "  scale_x_units(limits = set_units(c(2, 30), degree_C))\n",
    "\n",
    "a / b + plot_layout(heights = c(1.5, 2)) + plot_annotation(tag_levels = 'A', tag_suffix = ')')"
   ],
   "id": "cell-fig-kde-modern"
  },
  {
   "cell_type": "markdown",
   "metadata": {},
   "source": [
    "These empirical thresholds are consistent with physiological parameters inferred from field-scale agronomic studies and expert knowledge, which estimate that the optimum temperature range for reproductive yield in rice is 23℃-26℃, biomass and pollen viability declines when maximum temperatures exceed 33℃, and crop viability reaches zero at approximately 40℃ when photosynthesis begins to shut down in C3 plants like rice ([*33*](#ref-ren2023)). In other words, rice today is rarely grown in regions where the mean annual temperature exceeds its optimum temperature for reproduction, warm-season maximum temperatures exceed its optimum for pollen viability, and summer heat extremes will reliably stop photosynthesis.\n",
    "\n",
    "These broad climate indices, while not capturing all nuances of local growing conditions, serve as useful heuristics for identifying regions prone to thermal stress. This approach provides a complementary perspective to typical empirical crop models, which often use fixed monthly or seasonal predictors tied to the timing of the growing season. These predictors depend on planting dates, which are themselves cultural adaptations to past and present climate. As planting times and growing seasons shift with climate change, statistical analyses based solely on “growing season” temperatures may become less reliable for long-term historical comparison. Our approach provides a stable benchmark for integrating archaeological and contemporary data across different time periods and cultivation practices, helping identify where adaptations in growing seasons, crop types, genetics, or irrigation practices may become necessary.\n",
    "\n",
    "## High-temperature constraints are consistent across 9,000 years of rice cultivation\n",
    "\n",
    "Although upper temperature limits on rice growth estimated from contemporary crop occurrences are consistent with previous agronomic studies, it is not yet clear how well these thresholds will predict crop responses to future temperature changes. For example, there are few places today that experience mean annual temperatures beyond 28℃ (Supplementary Figure <a href=\"#fig-current-limits\" class=\"quarto-xref\">7</a>), and contemporary correlations between mean annual temperatures and monthly or seasonal extremes may not hold in a changing climate. The archaeological record of rice cultivation in Asia, including direct dates of botanical remains and contextual dating of concurrent archaeological sites, provides a unique opportunity to assess the robustness of these temperature limits over the long term. During the mid Holocene ca 8000-4000 calibrated years BP (cal. BP), warm-season temperatures were generally warmer than present, reflecting increased summertime insolation in the Northern Hemisphere due to shifts in Earth’s orbit and consequent feedbacks in the global climate system ([*34*](#ref-berger1991)). Although not an exact analogue for projected future warming caused by greenhouse gas emissions, this period provides a baseline for rice’s response to shifting climates during the critical period of its domestication and dispersal.\n",
    "\n",
    "*O. sativa* has been domesticated a number of times in prehistory. Archaeological data shows that wild forms of rice were distributed as far north as northern China in the early Holocene (ca 9000 cal. BP) and gathered by foraging populations ([*35*](#ref-fuller2011)). Tropical varieties of *O. sativa japonica* were first cultivated in the middle and lower Yangtze and Yellow River valleys in China by at least 7000 cal. BP ([*36*](#ref-huang2012)–[*38*](#ref-choi2018)) (<a href=\"#fig-arch-kde\" class=\"quarto-xref\">Figure 3</a> A), where they began to exhibit traits of domestication (e.g. the development of a non-shattering rachis) by roughly 5000 cal. BP ([*12*](#ref-fuller2009), [*39*](#ref-Silva2015)). *Oryza sativa indica* rices on the other hand were likely domesticated in South Asia sometime around 4000 cal. BP ([*40*](#ref-fuller2016), [*41*](#ref-bates2022)), after which it spread throughout southeast Asia and China (<a href=\"#fig-arch-kde\" class=\"quarto-xref\">Figure 3</a> A). There is substantially less archaeobotanical data, however, that speaks to the cultivation and subsequent domestication of this subspecies ([*41*](#ref-bates2022)). This period of initial cultivation and domestication corresponds to the warmer mid-Holocene thermal maximum.\n",
    "\n",
    "Between roughly 5000-4000 BP, rice spread both north- and eastward in China ([*42*](#ref-lanehart2011), [*43*](#ref-dalpoimguedes2015)) and westward onto the Chengdu Plain ([*44*](#ref-dalpoimguedes2013)) and highlands of Southwest China ([*45*](#ref-dalpoimguedes2014), [*46*](#ref-dalmartello2018)) (<a href=\"#fig-arch-kde\" class=\"quarto-xref\">Figure 3</a> A). Genetic and paleoclimate modeling have suggested that regional cooling around 4200 BP played an important role in this spread resulting in strong pressure for tropical *O. japonica* to develop temperate adaptations ([*18*](#ref-gutaker2020)). Estimated divergence time for tropical and temperate *O. japonica* is indeed estimated at around 4100 BP ([*18*](#ref-gutaker2020)). Following the development of temperate *O. japonica* varieties, rice spread to both Korea ([*47*](#ref-crawford2003), [*48*](#ref-ahn2010)) and Japan ([*14*](#ref-crema2022)) (<a href=\"#fig-arch-kde\" class=\"quarto-xref\">Figure 3</a> A). At the same time, it appears that the area that tropical varieties of *O. japonica* were able to occupy shifted southwards to southern China ([*49*](#ref-yang2017), [*50*](#ref-deng2022)) and southeast Asia ([*51*](#ref-castillo2018)–[*53*](#ref-dalpoimguedes2020)) (<a href=\"#fig-arch-kde\" class=\"quarto-xref\">Figure 3</a> A), largely representing the dispersal of existing tropical varieties rather than novel adaptations to new thermal extremes. Indeed between 4000-3000 BP, rice farming spread into Thailand ([*53*](#ref-dalpoimguedes2020)), Laos, Bhutan, and then via maritime routes to Taiwan, the Philippines, Malaysia, and Indonesia ([*18*](#ref-gutaker2020)) (<a href=\"#fig-arch-kde\" class=\"quarto-xref\">Figure 3</a> A). A clear split in the distribution of rice with regards to temperature is evident following 4000 BP and we see a clear split into two populations: temperate varieties which occupy a mean annual temperature niche between roughly 8-18℃ and tropical varieties which occupy a niche between 22-27℃ (<a href=\"#fig-arch-kde\" class=\"quarto-xref\">Figure 3</a> B)."
   ],
   "id": "e117fdd5-6a93-47a9-ac29-aad5d2f0e72c"
  },
  {
   "cell_type": "code",
   "execution_count": null,
   "metadata": {},
   "outputs": [
    {
     "output_type": "stream",
     "name": "stderr",
     "text": [
      "Picking joint bandwidth of 0.976"
     ]
    },
    {
     "output_type": "stream",
     "name": "stderr",
     "text": [
      "Picking joint bandwidth of 0.579"
     ]
    },
    {
     "output_type": "stream",
     "name": "stderr",
     "text": [
      "Picking joint bandwidth of 0.405"
     ]
    },
    {
     "output_type": "display_data",
     "metadata": {},
     "data": {}
    }
   ],
   "source": [
    "arch_map <- arch_trace_dat %>%\n",
    "  ggplot() +\n",
    "  geom_sf(data = countries, color = 'white') +\n",
    "  geom_sf(size = 1, alpha = 0.75) + \n",
    "  facet_wrap(~mil, ncol = 4) +\n",
    "  coord_sf(expand = FALSE)\n",
    "\n",
    "arch_dens_mat <- arch_trace_dat %>%\n",
    "  ggplot(aes(MAT, mil)) +\n",
    "  scale_y_discrete(limits = rev) +\n",
    "  geom_density_ridges(aes(fill = mil), \n",
    "                      panel_scaling = TRUE, \n",
    "                      scale = 2, \n",
    "                      alpha = 0.5, \n",
    "                      jittered_points = TRUE, \n",
    "                      point_alpha = 0.25, \n",
    "                      point_size = 0.5) +\n",
    "  labs(y = 'Millennium BP', x = 'Mean annual temperature') +\n",
    "  geom_vline(xintercept = as.numeric(bio1_limit), linetype = 2, color = 'red') +\n",
    "  scale_fill_brewer(palette = 'Spectral', guide = 'none')\n",
    "\n",
    "arch_dens_tmax <- arch_trace_dat %>%\n",
    "  ggplot(aes(tmax, mil)) +\n",
    "  scale_y_discrete(limits = rev) +\n",
    "  geom_density_ridges(aes(fill = mil), \n",
    "                      panel_scaling = TRUE, \n",
    "                      scale = 2, \n",
    "                      alpha = 0.5, \n",
    "                      jittered_points = TRUE, \n",
    "                      point_alpha = 0.25, \n",
    "                      point_size = 0.5) +\n",
    "  labs(y = 'Millennium BP', x = 'Max temp. of the warmest month') +\n",
    "  geom_vline(xintercept = as.numeric(bio5_limit), linetype = 2, color = 'red') +\n",
    "  scale_fill_brewer(palette = 'Spectral', guide = 'none')\n",
    "\n",
    "arch_dens_twarm <- arch_trace_dat %>%\n",
    "  ggplot(aes(twarm, mil)) +\n",
    "  scale_y_discrete(limits = rev) +\n",
    "  geom_density_ridges(aes(fill = mil), \n",
    "                      panel_scaling = TRUE, \n",
    "                      scale = 2, \n",
    "                      alpha = 0.5, \n",
    "                      jittered_points = TRUE, \n",
    "                      point_alpha = 0.25, \n",
    "                      point_size = 0.5) +\n",
    "  labs(y = 'Millennium BP', x = 'Max temp. of the warmest quarter') +\n",
    "  geom_vline(xintercept = as.numeric(bio10_limit), linetype = 2, color = 'red') +\n",
    "  scale_fill_brewer(palette = 'Spectral', guide = 'none')\n",
    "\n",
    "arch_map / \n",
    "  (arch_dens_mat + arch_dens_tmax + arch_dens_twarm + plot_layout(guides = 'collect', axes = 'collect')) +\n",
    "  plot_annotation(tag_levels = 'A', tag_suffix = ')') + \n",
    "  plot_layout(heights = c(2, 1))"
   ],
   "id": "cell-fig-arch-kde"
  },
  {
   "cell_type": "markdown",
   "metadata": {},
   "source": [
    "These repeated instances of rice’s diversification and shifting ranges throughout its history primarily reflect genetic and cultural adaptations to cooler temperatures and shorter growing seasons. In contrast, movements into warmer regions generally involved range shifts by varieties already suited to such conditions rather than novel adaptations. Across these shifts, rice’s upper temperature limits have remained consistent. Out of 803 archaeological sites with rice remains, none have experienced MAT of greater than 28.2℃ during the Holocene (<a href=\"#fig-arch-kde\" class=\"quarto-xref\">Figure 3</a> B), in spite of warmer summer temperatures overall. Only a handful of sites experienced a TMAX of greater than 40.4℃ (<a href=\"#fig-arch-kde\" class=\"quarto-xref\">Figure 3</a> C), primarily in arid regions of northern India and Pakistan where archaeological dating is less certain and long-distance trade rather than local cultivation is more plausible. Regardless, the archaeological record of rice cultivation is consistent with the thermal limits estimated from contemporary data, and these results are robust to uncertainty in the dating of these archaeological remains and spatial biases in archaeological site preservation and recovery <a href=\"#fig-bootstrap\" class=\"quarto-xref\">Supplementary Figure 8</a>, as well as across different climate reconstructions with varying degrees of mid-Holocene warmth (Supplementary Figures <a href=\"#fig-recon-timeseries\" class=\"quarto-xref\">9</a> - <a href=\"#fig-kde-lgmr\" class=\"quarto-xref\">10</a>).\n",
    "\n",
    "## Currently cultivated rice areas are projected to exceed these thermal limits over the next century\n",
    "\n",
    "Although rice has spread to warmer environments since its domestication, the magnitude of this change over the past 9,000 years is small relative to anticipated changes by the end of this century. Multiple climate-model projections and future socioeconomic and emissions scenarios show large shifts in annual and warm-season temperatures in regions where rice is currently cultivated intensively, particularly in South, Southeast and Island Southeast Asia (<a href=\"#fig-future-densities\" class=\"quarto-xref\">Figure 4</a>). Mean annual temperature will exceed 28℃ for a substantial area of current occurrences in the years 2070-2100. Large parts of South, Southeast, and Island SE Asia will experience temperature conditions for which there is no analogue in the history of the cultivation and domestication of rice over at least the past 9,000 years (<a href=\"#fig-future-maps\" class=\"quarto-xref\">Figure 5</a>, Supplementary Figure <a href=\"#fig-country-summaries\" class=\"quarto-xref\">11</a>, Supplementary Tables 2-4). Although the extent of these projected shifts vary among climate models and emissions scenarios, the overall direction of this change is consistent (Supplementary Figures 6-8)."
   ],
   "id": "66b8b50e-15db-4ee7-be95-502fa9f8763f"
  },
  {
   "cell_type": "code",
   "execution_count": null,
   "metadata": {},
   "outputs": [
    {
     "output_type": "display_data",
     "metadata": {},
     "data": {}
    }
   ],
   "source": [
    "fig5_quantile_data <- quants_mod %>%\n",
    "               filter(quantile == 0.975) %>%\n",
    "               pivot_longer(-quantile,\n",
    "                            names_to = 'variable',\n",
    "                            values_to = 'temperature') %>%\n",
    "   mutate(variable = factor(\n",
    "           case_when(variable == 'bio1' ~ 'Mean annual temperature',\n",
    "                     variable == 'bio5' ~  'Max temperature of the warmest month',\n",
    "                     variable == 'bio10' ~ 'Max temperature of warmest quarter'),\n",
    "           levels = c('Mean annual temperature', \n",
    "                      'Max temperature of the warmest month', \n",
    "                      'Max temperature of warmest quarter')))\n",
    "\n",
    "readRDS(here('data/derived/fig_4_data.rds')) %>%\n",
    "  bind_rows(pivot_longer(fig2_dat, everything(), \n",
    "                         names_to = 'variable', values_to = 'temperature') %>%\n",
    "              mutate(ssp = 'present')) %>%\n",
    "  mutate(ssp = factor(ssp, \n",
    "                      levels = c('SSP5-8.5', 'SSP3-7.0', 'SSP1-2.6', 'present')),\n",
    "         variable = factor(\n",
    "           case_when(variable == 'bio1' ~ 'Mean annual temperature',\n",
    "                     variable == 'bio10' ~ 'Max temperature of warmest quarter',\n",
    "                     variable == 'bio5' ~  'Max temperature of the warmest month'),\n",
    "           levels = c('Mean annual temperature', \n",
    "                      'Max temperature of warmest quarter',\n",
    "                      'Max temperature of the warmest month'))) %>%\n",
    "  ggplot(aes(temperature)) +\n",
    "  geom_density(aes(fill = ssp), alpha = 0.5) +\n",
    "  scale_fill_brewer(palette = 'Spectral', direction = 1, name = '') +\n",
    "  facet_wrap(~variable, ncol = 1, scales = 'free_y') +\n",
    "  geom_vline(data = fig5_quantile_data, \n",
    "             aes(xintercept = temperature), linetype = 2, color = 'red', linewidth = 1.2) +\n",
    "  labs(x = 'Temperature')"
   ],
   "id": "cell-fig-future-densities"
  },
  {
   "cell_type": "code",
   "execution_count": null,
   "metadata": {},
   "outputs": [
    {
     "output_type": "stream",
     "name": "stderr",
     "text": [
      "Warning: Removed 3383937 rows containing missing values or values outside the scale\n",
      "range (`geom_raster()`)."
     ]
    },
    {
     "output_type": "display_data",
     "metadata": {},
     "data": {}
    }
   ],
   "source": [
    "fig5_map_data <- cmip6_maps |>\n",
    "  split('variable') %>%\n",
    "  mutate(\n",
    "    bio1 = bio1 > units::drop_units(bio1_limit),\n",
    "    bio10 = bio10 > units::drop_units(bio10_limit),\n",
    "    bio5 = bio5 > units::drop_units(bio5_limit)\n",
    "  ) %>%\n",
    "  rename(`Mean annual temperature` = bio1,\n",
    "         `Max temperature of warmest quarter` = bio10,\n",
    "         `Max temperature of warmest month` = bio5) %>%\n",
    "  merge(name = 'variable') |>\n",
    "  st_apply(c('x', 'y', 'ssp', 'variable'), sum) %>%\n",
    "  mutate(sum = factor(sum)) \n",
    "\n",
    "ggplot() +\n",
    "  geom_stars(data = fig5_map_data) +\n",
    "  facet_grid(ssp~variable) +\n",
    "  scale_fill_brewer(palette = 'OrRd', direction = 1, \n",
    "                    name = 'Models', \n",
    "                    na.value = NA, na.translate = FALSE) +\n",
    "  geom_sf(data = coasts) +\n",
    "  labs(x = '', y = '') +\n",
    "  coord_sf(expand = FALSE)"
   ],
   "id": "cell-fig-future-maps"
  },
  {
   "cell_type": "markdown",
   "metadata": {},
   "source": [
    "While our spatial analyses reveal clear thermal boundaries in rice distributions, understanding the potential genetic capacity for adaptation provides added context to projected climate shifts. A genetic offset analysis assessing the potential maladaptation of *O. sativa* subspecies to future climate scenarios, correlating contemporary genetic variation with annual and seasonal temperature, indicates both subspecies are at a significantly higher risk of maladaptation under projected temperature regimes of the coming century (<a href=\"#fig-offsets\" class=\"quarto-xref\">Figure 6</a>). Genetic offset analysis estimates how climatically mismatched rice populations may become under future warming by calculating the multidimensional distance between current allele frequencies and those predicted to be adaptive under projected climate conditions. The analysis produces unitless distance values where larger numbers indicate populations whose current genetic makeup is more divergent from what would be optimal for future climates, suggesting higher vulnerability to climate-driven fitness declines. These distance metrics synthesize information across multiple climate-responsive genetic variants to forecast which populations face the greatest adaptive challenges under temperature increases. When projecting to future climates across Asia, optimal growing locations for rice landraces (traditional crop varieties maintained by farmers and adapted to local conditions) of both subspecies show a greater skew away from the equator in the likeliest emissions scenarios (Supplemental Figure <a href=\"#fig-displacement\" class=\"quarto-xref\">15</a>). For both *japonica* and *indica*, the degree of maladaptation increases with worsening emissions scenarios, but is generally greater than at any point experienced throughout the Holocene."
   ],
   "id": "f900c303-8978-4282-8f2b-051a65c848ea"
  },
  {
   "cell_type": "code",
   "execution_count": null,
   "metadata": {},
   "outputs": [
    {
     "output_type": "display_data",
     "metadata": {},
     "data": {}
    }
   ],
   "source": [
    "offset_2.6 <- readRDS(\"data/derived/genetics_plotting/offset_2.6_PC1_K8.rds\")\n",
    "offset_7.0 <- readRDS(\"data/derived/genetics_plotting/offset_7.0_PC1_K8.rds\")\n",
    "offset_8.5 <- readRDS(\"data/derived/genetics_plotting/offset_8.5_PC1_K8.rds\")\n",
    "offset_past <- readRDS(\"data/derived/genetics_plotting/offset_past_PC1_K8.rds\")\n",
    "ind_offset_2.6 <- readRDS(\"data/derived/genetics_plotting/ind_offset_2.6.rds\")\n",
    "ind_offset_7.0 <- readRDS(\"data/derived/genetics_plotting/ind_offset_7.0.rds\")\n",
    "ind_offset_8.5 <- readRDS(\"data/derived/genetics_plotting/ind_offset_8.5.rds\")\n",
    "ind_offset_past <- readRDS(\"data/derived/genetics_plotting/ind_offset_past.rds\")\n",
    "\n",
    "inds_geotagged <- readRDS(\"data/derived/genetics_plotting/indica_geotagged.rds\")\n",
    "japs_geotagged <- readRDS(\"data/derived/genetics_plotting/japonica_geotagged.rds\")\n",
    "\n",
    "\n",
    "# this is the order of the japonica accessions in the genotype matrix\n",
    "japs <- read.table(\"data/derived/genetics_plotting/japs_order.txt\")\n",
    "inds <- read.table(\"data/derived/genetics_plotting/inds_order.txt\")\n",
    "\n",
    "indica_dat <- tibble(inds$V1,\n",
    "                  ind_offset_2.6$offset,ind_offset_2.6$distance,\n",
    "                  ind_offset_7.0$offset,ind_offset_7.0$distance,\n",
    "                  ind_offset_8.5$offset,ind_offset_8.5$distance,\n",
    "                  ind_offset_past$offset,ind_offset_past$distance) %>%\n",
    "  setNames(c(\"ID\",\"SSP1-2.6\",\"rona_2.6\",\n",
    "                   \"SSP3-7.0\",\"rona_7.0\",\n",
    "                   \"SSP5-8.5\",\"rona_8.5\",\n",
    "                   \"Holocene\", \"rona_past\"\n",
    "                   )) %>%\n",
    "  left_join(inds_geotagged, by = 'ID') %>%\n",
    "  select(-starts_with('rona')) %>%\n",
    "  pivot_longer(starts_with('SSP') | starts_with('Hol')) %>%\n",
    "  arrange(value) %>%\n",
    "  rename(scenario = name)\n",
    "\n",
    "japonica_dat <- tibble(japs$V1,\n",
    "                  offset_2.6$offset,offset_2.6$distance,\n",
    "                  offset_7.0$offset,offset_7.0$distance,\n",
    "                  offset_8.5$offset,offset_8.5$distance,\n",
    "                  offset_past$offset,offset_past$distance) %>%\n",
    "  setNames(c(\"ID\",\"SSP1-2.6\",\"rona_2.6\",\n",
    "                   \"SSP3-7.0\",\"rona_7.0\",\n",
    "                   \"SSP5-8.5\",\"rona_8.5\",\n",
    "                   \"Holocene\", \"rona_past\"\n",
    "                   )) %>%\n",
    "  left_join(japs_geotagged, by = 'ID') %>%\n",
    "  select(-starts_with('rona')) %>%\n",
    "  pivot_longer(starts_with('SSP') | starts_with('Hol')) %>%\n",
    "  arrange(value) %>%\n",
    "  rename(scenario = name)\n",
    "\n",
    "offset_dat <- list(Indica = indica_dat,\n",
    "     Japonica = japonica_dat) %>%\n",
    "  bind_rows(.id = 'var')\n",
    "\n",
    "ggplot(offset_dat) +\n",
    "  geom_sf(data = countries_small, color = 'white') +\n",
    "  geom_point(aes(LON, LAT, color = value)) +\n",
    "  scale_color_viridis_c(option = 'magma', name = 'Offset') +\n",
    "  facet_grid(var~scenario) + \n",
    "  labs(x = '', y = '') +\n",
    "  coord_sf(expand = FALSE)"
   ],
   "id": "cell-fig-offsets"
  },
  {
   "cell_type": "markdown",
   "metadata": {},
   "source": [
    "# Discussion\n",
    "\n",
    "There is a clear upper limit of mean annual temperature over 28℃ and warm-season maximum temperature over 33℃ for rice that has rarely been crossed since its domestication. Forward looking climate projections show that areas that currently house some of the highest densities of rice cultivation on Earth will surpass this limit by the end of this century (<a href=\"#fig-future-maps\" class=\"quarto-xref\">Figure 5</a>). Today, 675 million people live in Southeast Asia and 1.9 billion people live in South Asia. By the end of this century, it is estimated that at least this number of people will live in the region that will surpass these thresholds. Today, mean annual temperatures greater than 28℃ are distributed across only a very small area of the planet which includes only a small portion of the gulf desert and the Sahara ([*54*](#ref-Xu2020)). Beyond the impact of this heat on rice cultivation, this study raises serious concerns about the viability of other temperature-sensitive crops in regions which will be impacted. The predictions for these areas of the world are out of the historic sample of distribution for rice and have no analogue in the present climate.\n",
    "\n",
    "While some regions, including parts of northern China and southern Russia, may become climatically suitable for rice cultivation and could even see yield gains as temperatures approach current optima ([*5*](#ref-gao2025cost), e.g. [*55*](#ref-wang2020emergent), [*56*](#ref-minoli2022global)), such potential benefits will be highly localized. Even if aggregate yields were to stabilize or increase in some growing regions, they would not offset the immediate livelihood and food security risks faced in regions projected to exceed current thermal limits. Shifting rice production north to regions currently too cold to grow rice will be insufficient to buffer these projected impacts. Beyond the potential for unanticipated social and environmental impacts ([*57*](#ref-hannah2020)), this response would do little for the billions of people who live in these hotter regions whose lives and livelihoods are directly threatened. This response would also ignore that rice cultivation requires extensive niche construction through the construction of paddies and that abiotic factors such as sufficient water for irrigation and soils which can accommodate paddy rice. Indeed, many areas where rice is currently cultivated are already at the limit of these secondary agronomic adaptations ([*6*](#ref-mahaut2022)). Ethnographic work has shown that in Southeast Asia and China rice paddy soils have been formed over thousands of years of continuous farming which has increased their fertility ([*58*](#ref-netting1993)). Such long-term processes of niche construction cannot be easily replaced.\n",
    "\n",
    "Although we do not directly assess yields, regions projected to warm beyond rice’s historical thermal limits are likely to experience sustained productivity declines without further adaptation, while some cooler areas could benefit as temperatures approach present-day optima. Both outcomes underscore the importance of adaptation strategies to sustain production under shifting climatic conditions. Shifts in planting dates to winter may provide solutions in some regions, but higher temperatures are still a concern as rice is also sensitive to warmer nighttime temperatures in the early growing period ([*59*](#ref-peng2004)). While breeding for traits that improve resistance to heat stress, such as early flowering ([*33*](#ref-ren2023)), offers some promise, large-scale socio-cultural adaptations to new crop varieties—and, in some cases, shifts in dietary preferences or staple composition ([*60*](#ref-willett2019food))—imply significant downstream impacts on regional cultures and economies that can be difficult to anticipate and mitigate ahead of time. Additionally, tropical varieties of *O. japonica* will likely need to shift northwards to higher latitudes, yet these varieties are highly sensitive to day length, and the development of non-photosensitive temperate *O. japonica* may have taken thousands of years. More recent efforts, however, such as the Green Revolution in Asia, achieved rapid advances—including the development of non-photosensitive varieties that enabled the expansion of rice cultivation into new latitudes ([*61*](#ref-eliazer2019impact)). A major breeding objective for the coming decades will thus not only be to develop non-photosensitive varieties of tropical rice but also matching cultivation strategies (e.g. [*62*](#ref-wang2022)) and associated food system strategies and cultural norms.\n",
    "\n",
    "The stored germplasm of landraces will thus serve as important genetic resources to breed climate-adaptive loci into high-yielding commercial rice varieties ([*63*](#ref-nomura2021)–[*65*](#ref-mcnally2023)). Compared to modern cultivars, landraces contain higher genetic diversity ([*66*](#ref-hour2020), [*67*](#ref-thomson2007)) and adaptations to a wider range of climates ([*64*](#ref-vasconcelos2013)). This genetic diversity can also be harnessed using traditional varietal mixtures and diversified planting systems ([*68*](#ref-mcalvay2022)), where growing complementary crop varieties with different heat tolerances together can buffer against temperature extremes. Maladaptation of rice landraces under future climates may thus be amplified in modern cultivars and cropping systems ([*69*](#ref-keneni2012)). Although there is uncertainty in genomic offset estimates due to model averaging across climate scenarios and statistical uncertainty in genotype-environment associations, they remain powerful predictors of maladaptation in projected climates ([*70*](#ref-gain2023)). A warming climate also threatens wild relatives of rice and the genetic resources they contain, which are currently largely limited to South and Southeast Asia and cannot disperse as quickly without human intervention ([*1*](#ref-cang2016)).\n",
    "\n",
    "Our focus here on annual and seasonal temperature indicators allows for the integration of a broader array of data and provides a more flexible analysis that is less sensitive to uncertainty in cultivar type, growing season, and local management practices. However, future work could explore this variability further by developing new thermal indicators more sensitive to the unique requirements of various cultivars, growing seasons, and agro-ecological contexts. Temperature is not the only climate variable that influences rice growth. Others like soil moisture and solar radiation are also critical to rice growth in ways that, likewise, depend on cultivar type, growing season, and management practices. Extending this analysis to the global and regional climatic drivers of local climate response of these multiple variables, such as the influence of sea surface temperature variability and atmosphere-ocean teleconnections, could provide further opportunities to incorporate long-term climate reconstructions and projections of climate impacts on rice viability. A more precise estimation of the long-range correlations among key climate indicators in space and time, based on long-term insights from the archaeological and paleoclimatological record, would be particularly useful for developing holistic recommendations for future agronomic and genetic adaptations.\n",
    "\n",
    "Our interdisciplinary approach highlights a pressing reality: the vast historical perspective of rice cultivation combined with past and present climate data provide a sobering outlook for food security during future climatic shifts. Staple food resources entrenched in centuries or millennia of cultural and socio-economic development face unprecedented challenges in the coming decades. The implications of these challenges extend beyond agriculture and resonate through economic systems, trade and migration flows, and deep-rooted cultural practices. The potential displacement of rice cultivation zones suggests not merely a change in global food patterns but a profound disruption of human societies rooted in these agronomic traditions. Before us lies an urgent necessity for international research, collaboration, and adaptive policy-making to strengthen the resilience of this crop that sustains billions.\n",
    "\n",
    "# Materials and Methods\n",
    "\n",
    "## Climate Data\n",
    "\n",
    "We used high-resolution gridded climate data from version 2.1 of the CHELSA product ([*71*](#ref-brun)). CHELSA incorporates bias-corrected outputs from the ERA5 reanalysis ([*72*](#ref-hersbach2020)) with high-resolution terrain data using mechanistic relationships between local climate and terrain. Compared to other global gridded climate products, CHELSA offers superior performance in mountainous regions, and its reliance on high-quality reanalysis data instead of raw weather station data ensures greater accuracy and internal consistency among climate variables.\n",
    "\n",
    "For present-day observed climate, we used the CHELSA V2.1 product spanning the period 1981-2010 at a 1km resolution. We further aggregated the native 1km data to 5km and 10km grids to assess the sensitivity of our results to the scale of the analysis, given the variable spatial support of the contemporary rice extent data. In all cases we used standard temperature indicators used in ecological niche modeling studies ([*71*](#ref-brun)), derived from monthly climatologies of minimum and maximum temperature, which collectively represent annual means, monthly extremes, and seasonality. Future climate model ensembles were derived from phase six of the Coupled Model Intercomparison Project (CMIP6) ([*73*](#ref-eyring2016)), using the subset of bias-corrected models and scenarios used in phase 3b of the Inter-Sectoral Impact Model Intercomparison Project (ISIMIP) ([*74*](#ref-lange2019)), bilinearly interpolated to the CHELSA V2.1 basemap using the delta change approach ([*25*](#ref-brun2022)).\n",
    "\n",
    "Past climate data were primarily derived from the CHELSA-TraCE21k product, a downscaled version of TraCE-21k simulation of the CCSM3 climate model spanning the last 21,000 years, at 100-year intervals ([*76*](#ref-He2011)). This product uses the older CHELSA V1.2 algorithm, along with a trend-preserving bias correction and topographic correction for shifting ice sheets across the deglacial period. While TraCE-21k has known limitations ([*77*](#ref-Marcott2013)–[*80*](#ref-zhang2022)), particularly in representing mid-Holocene warmth, it was chosen for its unique combination of high spatial resolution and seasonal temporal resolution necessary for assessing rice cultivation conditions. To validate these findings, we compared our results with other low-resolution mean annual temperature reconstructions that show varying levels of mid-Holocene warmth ([*81*](#ref-osman2021), [*82*](#ref-erb2022a)). Despite differences in overall temperature trends, the key patterns in rice cultivation temperature distributions remained consistent between reconstructions (fig. S3).\n",
    "\n",
    "## Contemporary Rice Distribution Data\n",
    "\n",
    "We collected rice occurrence data from a variety of sources combining information from satellite imagery, administrative statistics, and herbarium collections to assess the sensitivity of our results to various modes of data collection, sampling, spatiotemporal scale, and other potential sources of bias. These three distinct data types sample different aspects of rice distribution with complementary biases. Satellite estimates provide continuous spatial coverage but can misclassify certain land cover types; census data offer detailed regional production information but suffer from administrative reporting issues and boundary effects; herbarium records provide precise, ground-truthed identifications across diverse production systems but show spatial bias in field accessibility and collection priorities. When these data types with different sampling approaches converge on similar thermal limits despite their distinct limitations, this suggests the patterns are less likely to be methodological artifacts. The specific datasets were:\n",
    "\n",
    "-   Satellite-based estimates of lowland rice extent in Asia from the International Rice Research Institute ([*19*](#ref-nelson2015)). This dataset employs high-resolution (500m) presence-absence markers from MODIS observations (2000-2012) and offers relatively uniform sampling across both temperate and tropical regions. It provides a more objective approach than spatially biased occurrence records. However, its coverage is limited to East and Southeast Asia and it may poorly distinguish intercropped wheat and rice in Northeast China and natural wetlands and paddy rice cultivation in Indonesia. To minimize such sampling issues, we aggregated the 500m data into 5km grid cells, dropping occurrences with less than 20% coverage to minimize false positives from low-pixel observations. Subsequent analyses of these data proved robust to the exact resolution and coverage threshold used.\n",
    "\n",
    "-   Estimates of paddy rice harvested areas around the year 2000 ([*20*](#ref-monfreda2008)). This dataset, integrates satellite-based estimates of cropland with sub-national statistics for rice harvested areas. It utilizes geospatial cropland maps to downscale harvest area and yield census data and offers global coverage at approximately 10km resolution. Countries that lack detailed administrative data at the subnational level, such as Laos and Kazakhstan, can exhibit overly smoothed areas. The use of harvested area as a metric can be misleading in regions with multiple annual harvests, leading to double or triple counting, but this is mitigated when converted to binary occurrence data.\n",
    "\n",
    "-   Geolocated, point-based occurrence records for rice and its wild progenitor synthesized from previous studies ([*2*](#ref-yang2022), [*18*](#ref-gutaker2020), [*21*](#ref-civán2018), [*22*](#ref-ramirez-villegas2022)), originally sourced from GBIF, the Rice Haplotype Map project, and other datasets based on herbarium specimens or germplasm samples from international genebank databases. Given their direct identification, these occurrence records generally offer greater reliability than area-averaged crop occurrences derived from satellites and sub-national statistics. Nonetheless, they are susceptible to spatial sampling bias. For instance, regions like China are underrepresented in GBIF in terms of sampling effort compared to neighboring countries with similar geographical extent, and herbarium collections may more accurately sample upland rice varieties at the expense of larger paddy fields. After creating the full combined datasets, geolocations were checked for anomalous entries then thinned to a uniform grid to minimize irregular spatial sampling.\n",
    "\n",
    "We extracted the contemporary CHELSA climate data at each set of occurrence points for each data type to calculate temperature distributions and quantiles. We explored various combinations of grid/point resolution for the climate and occurrence datasets from 1-10km, but found this did not impact the upper temperature threshold estimates.\n",
    "\n",
    "## Archaeological Rice Distribution Data\n",
    "\n",
    "We used past rice occurrence data sourced from archaeological sites in Asia, as synthesized in ([*83*](#ref-Guedes2018)) and ([*13*](#ref-long2022)) and primarily derived from version 2 ([*15*](#ref-silva2015)) and 3 (Dorian Fuller 2023, personal communication) of the Rice Archaeological Database. We also included observations from ([*14*](#ref-crema2022)) to increase data coverage in Japan. These records are typically of botanical remains, believed to represent *O. sativa japonica* from these archaeological sites, with less intensive sampling of *indica* varieties from northern India. However, based on their chronology, some occurrences might instead reflect cultivation of wild-type *O. rufipogon* or *O. nivara*. After data harmonization—which involved eliminating potential outliers, correcting misclassifications, and removing duplicated site data (see supplemental analysis code repository for the reproducible workflow)—we were left with 1,595 dates from 803 archaeological sites. These datasets comprise a mixture of direct radiocarbon dates on rice remains, alongside dates for archaeological phases associated with rice remains that were not directly dated. For these indirectly dated samples, we used median dates and minimum/maximum date ranges for the archaeological strata or contexts in which the rice remains were found. We employed the Intcal20 calibration curve for recalibrating all radiocarbon dates, barring a single site in the southern hemisphere where we utilized SHcal20. We then extracted temperature variables from the CHELSA-TraCE21k v1.0 dataset at each sampled location in time and space. To account for chronological uncertainty, we generated 5,000 bootstrap replicates, sampling from the radiocarbon dates’ posterior density distribution and a uniform density for the dates based on archaeological phases. Finally, we constructed unique kernel density estimates of the temperature distributions at each rice occurrence point for every bootstrap replicate and temperature variable.\n",
    "\n",
    "## Genetic Offset Analysis\n",
    "\n",
    "To assess the adaptive capacity of rice varieties beyond simple distributional limits, we performed a genetic offset analysis to evaluate the potential maladaptation of *Oryza sativa* subspecies *indica* and *japonica* under projected climate change scenarios. Genetic offset metrics provide a complementary perspective to geographical threshold analyses by identifying where genetic adaptation may or may not keep pace with changing thermal conditions. Landraces are representative of the extant genetic diversity of crop species, and frequently exhibit local adaptations from sustained cultivation in specific geographic localities. We leveraged previously published genomic datasets of geotagged rice landraces belonging to the subspecies *O. sativa ssp. Indica* ([*18*](#ref-gutaker2020)) and *O. sativa ssp. Japonica* ([*84*](#ref-alam2021)), containing genome-wide biallelic single nucleotide polymorphisms (SNPs) filtered for quality and imputed for missing genotypes. The workflow entailed a gene-environment association analysis focusing on the first principal component of the three temperature variables (MAT, TWARM, TMAX), which explained over 84% of the environmental variance across the locations of both rice subspecies. Using the first principal component addresses multicollinearity among the temperature variables while retaining most environmental variation. The gene-environment association analysis was performed using the `lfmm2` function from the R package LEA (v3.12.2)—on the two subspecies separately—to identify variants associated with variation in temperature ([*85*](#ref-gain2021)). To correct for population structure in the GEA, we provided the number of ancestral populations, K, as the number of latent factors in our latent factor mixed models ([*85*](#ref-gain2021)). We selected the number of ancestral populations based on the number of principal components of the genotype matrix that explain a large proportion of the variance, the cross-entropy—a measure of model fit—of different values of K, and information from prior studies ([*18*](#ref-gutaker2020), [*84*](#ref-alam2021)). Variants identified in the GEA were clumped within 100 kilobases of each other, selecting the variant with the lowest p-value as the candidate SNP from each linkage group. The genetic offset, indicative of maladaptation to predicted climates ([*70*](#ref-gain2023)), was calculated using these loci. These offset values indicate the Euclidean distance between current genomic composition and the composition theoretically required for adaptation to projected climate conditions. We averaged model predictions across multiple climate models (UKESM, MRI, IPSL, etc.) in the ensemble for each Shared Socioeconomic Pathway (SSP).\n",
    "\n",
    "We used the `genetic.offset` function of the R package LEA ([*85*](#ref-gain2021)) to calculate genomic offset statistics for rice landraces of *O. sativa ssp. Indica* and *O. sativa ssp. Japonica* while considering the temperature-associated variants as putative adaptive variants under the SSP1, SSP3, and SSP5 projected pathways that are used to derive greenhouse gas emission scenarios. We also calculated genomic offset statistics under the maximum estimated temperature at each location in the past 12,000 years.\n",
    "\n",
    "To make predictions about where the climate is likely to be optimal for rice-growing in the future, we sampled 10,000 grids from across Asia and calculated genomic offset scores for each individual in the environment of each grid, for the three SSP scenarios. We interpret the grid with the lowest offset score as a possible future optimal location for each rice individual. As a measure of the extent of movement that would be required for adaptation, we subtract the absolute value of the current latitude of each rice individual from the absolute value of the centroid latitude of the optimal grid; positive values of this absolute latitudinal distance indicate movement away from the equator.\n",
    "\n",
    "# References\n",
    "\n",
    "<span class=\"csl-left-margin\">1. </span><span class=\"csl-right-inline\">F. A. Cang, A. A. Wilson, J. J. Wiens, [Climate change is projected to outpace rates of niche change in grasses](https://doi.org/10/gnjmsx). *Biology Letters* **12**, 20160368 (2016).</span>\n",
    "\n",
    "<span class=\"csl-left-margin\">2. </span><span class=\"csl-right-inline\">R. Yang, X. Gong, R. Cao, J. Feng, [Global niche shifts of rice and its weak adaptability to climate change](https://doi.org/10.1016/j.ecoinf.2022.101813). *Ecological Informatics* **71**, 101813 (2022).</span>\n",
    "\n",
    "<span class=\"csl-left-margin\">3. </span><span class=\"csl-right-inline\">L. L. Sloat, S. J. Davis, J. S. Gerber, F. C. Moore, D. K. Ray, P. C. West, N. D. Mueller, [Climate adaptation by crop migration](https://doi.org/10.1038/s41467-020-15076-4). *Nature Communications* **11**, 1243 (2020).</span>\n",
    "\n",
    "<span class=\"csl-left-margin\">4. </span><span class=\"csl-right-inline\">H. Wang, R. J. Hijmans, [Climate change and geographic shifts in rice production in China](https://doi.org/10.1088/2515-7620/ab0856). *Environmental Research Communications* **1**, 011008 (2019).</span>\n",
    "\n",
    "<span class=\"csl-left-margin\">5. </span><span class=\"csl-right-inline\">Y. Gao, J. Cui, X. Zhang, G. Hoogenboom, D. Wallach, Y. Huang, S. Reis, T. Lin, B. Gu, Cost-effective adaptations increase rice production while reducing pollution under climate change. *Nature Food* **6**, 260–272 (2025).</span>\n",
    "\n",
    "<span class=\"csl-left-margin\">6. </span><span class=\"csl-right-inline\">L. Mahaut, S. Pironon, J.-Y. Barnagaud, F. Bretagnolle, C. K. Khoury, Z. Mehrabi, R. Milla, C. Phillips, L. H. Rieseberg, C. Violle, D. Renard, [Matches and mismatches between the global distribution of major food crops and climate suitability](https://doi.org/10.1098/rspb.2022.1542). *Proceedings of the Royal Society B: Biological Sciences* **289**, 20221542 (2022).</span>\n",
    "\n",
    "<span class=\"csl-left-margin\">7. </span><span class=\"csl-right-inline\">K. Singh, C. J. McClean, P. Büker, S. E. Hartley, J. K. Hill, [Mapping regional risks from climate change for rainfed rice cultivation in India](https://doi.org/10.1016/j.agsy.2017.05.009). *Agricultural Systems* **156**, 76–84 (2017).</span>\n",
    "\n",
    "<span class=\"csl-left-margin\">8. </span><span class=\"csl-right-inline\">D. K. Ray, P. C. West, M. Clark, J. S. Gerber, A. V. Prishchepov, S. Chatterjee, [Climate change has likely already affected global food production](https://doi.org/10.1371/journal.pone.0217148). *PLOS ONE* **14**, e0217148 (2019).</span>\n",
    "\n",
    "<span class=\"csl-left-margin\">9. </span><span class=\"csl-right-inline\">J. R. Welch, J. R. Vincent, M. Auffhammer, P. F. Moya, A. Dobermann, D. Dawe, [Rice yields in tropical/subtropical asia exhibit large but opposing sensitivities to minimum and maximum temperatures](https://doi.org/10.1073/pnas.1001222107). *Proceedings of the National Academy of Sciences* **107**, 14562–14567 (2010).</span>\n",
    "\n",
    "<span class=\"csl-left-margin\">10. </span><span class=\"csl-right-inline\">J. Soberón, B. Arroyo-Peña, [Are fundamental niches larger than the realized? Testing a 50-year-old prediction by Hutchinson](https://doi.org/10.1371/journal.pone.0175138). *PLOS ONE* **12**, e0175138 (2017).</span>\n",
    "\n",
    "<span class=\"csl-left-margin\">11. </span><span class=\"csl-right-inline\">V. Masson-Delmotte, P. Zhai, A. Pirani, S. L. Connors, C. Péan, S. Berger, N. Caud, Y. Chen, L. Goldfarb, M. Gomis, others, Climate change 2021: The physical science basis. *Contribution of working group I to the sixth assessment report of the intergovernmental panel on climate change* **2** (2021).</span>\n",
    "\n",
    "<span class=\"csl-left-margin\">12. </span><span class=\"csl-right-inline\">D. Q. Fuller, L. Qin, Y. Zheng, Z. Zhao, X. Chen, L. A. Hosoya, G.-P. Sun, [The Domestication Process and Domestication Rate in Rice: Spikelet Bases from the Lower Yangtze](https://doi.org/10.1126/science.1166605). *Science* **323**, 1607–1610 (2009).</span>\n",
    "\n",
    "<span class=\"csl-left-margin\">13. </span><span class=\"csl-right-inline\">T. Long, H. Chen, C. Leipe, M. Wagner, P. E. Tarasov, [Modelling the chronology and dynamics of the spread of Asian rice from ca. 8000 BCE to 1000 CE](https://doi.org/10.1016/j.quaint.2021.11.016). *Quaternary International* **623**, 101–109 (2022).</span>\n",
    "\n",
    "<span class=\"csl-left-margin\">14. </span><span class=\"csl-right-inline\">E. R. Crema, C. J. Stevens, S. Shoda, [Bayesian analyses of direct radiocarbon dates reveal geographic variations in the rate of rice farming dispersal in prehistoric Japan](https://doi.org/10.1126/sciadv.adc9171). *Science Advances* **8**, eadc9171 (2022).</span>\n",
    "\n",
    "<span class=\"csl-left-margin\">15. </span><span class=\"csl-right-inline\">F. Silva, C. J. Stevens, A. Weisskopf, C. Castillo, L. Qin, A. Bevan, D. Q. Fuller, [Modelling the Geographical Origin of Rice Cultivation in Asia Using the Rice Archaeological Database](https://doi.org/10.1371/journal.pone.0137024). *PLOS ONE* **10**, e0137024 (2015).</span>\n",
    "\n",
    "<span class=\"csl-left-margin\">16. </span><span class=\"csl-right-inline\">S. Weber, H. Lehman, T. Barela, S. Hawks, D. Harriman, [Rice or millets: early farming strategies in prehistoric central Thailand](https://doi.org/10.1007/s12520-010-0030-3). *Archaeological and Anthropological Sciences* **2**, 79–88 (2010).</span>\n",
    "\n",
    "<span class=\"csl-left-margin\">17. </span><span class=\"csl-right-inline\">J. d’Alpoim Guedes, R. K. Bocinsky, [Climate change stimulated agricultural innovation and exchange across Asia](https://doi.org/10/gfkwf8). *Science Advances* **4**, eaar4491 (2018).</span>\n",
    "\n",
    "<span class=\"csl-left-margin\">18. </span><span class=\"csl-right-inline\">R. M. Gutaker, S. C. Groen, E. S. Bellis, J. Y. Choi, I. S. Pires, R. K. Bocinsky, E. R. Slayton, O. Wilkins, C. C. Castillo, S. Negrão, M. M. Oliveira, D. Q. Fuller, J. A. d’Alpoim. Guedes, J. R. Lasky, M. D. Purugganan, [Genomic history and ecology of the geographic spread of rice](https://doi.org/10/ggx54g). *Nature Plants* **6**, 492–502 (2020).</span>\n",
    "\n",
    "<span class=\"csl-left-margin\">19. </span><span class=\"csl-right-inline\">A. Nelson, M. K. Gumma, A map of lowland rice extent in the major rice growing countries of Asia (2015).</span>\n",
    "\n",
    "<span class=\"csl-left-margin\">20. </span><span class=\"csl-right-inline\">C. Monfreda, N. Ramankutty, J. A. Foley, [Farming the planet: 2. Geographic distribution of crop areas, yields, physiological types, and net primary production in the year 2000](https://doi.org/10.1029/2007GB002947). *Global Biogeochemical Cycles* **22**, 2007GB002947 (2008).</span>\n",
    "\n",
    "<span class=\"csl-left-margin\">21. </span><span class=\"csl-right-inline\">P. Civáň, T. A. Brown, [Role of genetic introgression during the evolution of cultivated rice (oryza sativa l.)](https://doi.org/10.1186/s12862-018-1180-7). *BMC Evolutionary Biology* **18**, 57 (2018).</span>\n",
    "\n",
    "<span class=\"csl-left-margin\">22. </span><span class=\"csl-right-inline\">J. Ramirez-Villegas, C. K. Khoury, H. A. Achicanoy, M. V. Diaz, A. C. Mendez, C. C. Sosa, Z. Kehel, L. Guarino, M. Abberton, J. Aunario, B. A. Awar, J. C. Alarcon, A. Amri, N. L. Anglin, V. Azevedo, K. Aziz, G. L. Capilit, O. Chavez, D. Chebotarov, D. E. Costich, D. G. Debouck, D. Ellis, H. Falalou, A. Fiu, M. E. Ghanem, P. Giovannini, A. J. Goungoulou, B. Gueye, A. I. E. Hobyb, R. Jamnadass, C. S. Jones, B. Kpeki, J.-S. Lee, K. L. McNally, A. Muchugi, M.-N. Ndjiondjop, O. Oyatomi, T. S. Payne, S. Ramachandran, G. Rossel, N. Roux, M. Ruas, C. Sansaloni, J. Sardos, T. D. Setiyono, M. Tchamba, I. van den Houwe, J. A. Velazquez, R. Venuprasad, P. Wenzl, M. Yazbek, C. Zavala, [State of ex situ conservation of landrace groups of 25 major crops](https://doi.org/10.1038/s41477-022-01144-8). *Nature Plants* **8**, 491–499 (2022).</span>\n",
    "\n",
    "<span class=\"csl-left-margin\">23. </span><span class=\"csl-right-inline\">D. N. Karger, O. Conrad, J. Böhner, T. Kawohl, H. Kreft, R. W. Soria-Auza, N. E. Zimmermann, H. P. Linder, M. Kessler, [Climatologies at high resolution for the earth’s land surface areas](https://doi.org/10.1038/sdata.2017.122). *Scientific Data* **4**, 170122 (2017).</span>\n",
    "\n",
    "<span class=\"csl-left-margin\">24. </span><span class=\"csl-right-inline\">D. N. Karger, O. Conrad, J. Böhner, T. Kawohl, H. Kreft, R. W. Soria-Auza, N. E. Zimmermann, H. P. Linder, M. Kessler, Data from: Climatologies at high resolution for the earth’s land surface areas. doi: [10.5061/dryad.kd1d4](https://doi.org/10.5061/dryad.kd1d4) (2018).</span>\n",
    "\n",
    "<span class=\"csl-left-margin\">25. </span><span class=\"csl-right-inline\">P. Brun, N. E. Zimmermann, C. Hari, L. Pellissier, D. N. Karger, “Global climate-related predictors at kilometre resolution for the past and future” (2022); <https://doi.org/10.5194/essd-2022-212>.</span>\n",
    "\n",
    "<span class=\"csl-left-margin\">26. </span><span class=\"csl-right-inline\">J. L. Hatfield, K. J. Boote, B. A. Kimball, L. H. Ziska, R. C. Izaurralde, D. Ort, A. M. Thomson, D. Wolfe, [Climate Impacts on Agriculture: Implications for Crop Production](https://doi.org/10.2134/agronj2010.0303). *Agronomy Journal* **103**, 351–370 (2011).</span>\n",
    "\n",
    "<span class=\"csl-left-margin\">27. </span><span class=\"csl-right-inline\">S. M. Gourdji, K. L. Mathews, M. Reynolds, D. B. Lobell, S. M. Gourdji, An assessment of wheat yield sensitivity and breeding gains in hot environments. (2012).</span>\n",
    "\n",
    "<span class=\"csl-left-margin\">28. </span><span class=\"csl-right-inline\">T. Zhang, J. Zhu, X. Yang, [Non-stationary thermal time accumulation reduces the predictability of climate change effects on agriculture](https://doi.org/10.1016/j.agrformet.2008.04.007). *Agricultural and Forest Meteorology* **148**, 1412–1418 (2008).</span>\n",
    "\n",
    "<span class=\"csl-left-margin\">29. </span><span class=\"csl-right-inline\">P. A. J. van Oort, T. Zhang, M. E. de Vries, A. B. Heinemann, H. Meinke, [Correlation between temperature and phenology prediction error in rice (*Oryza sativa* l.)](https://doi.org/10.1016/j.agrformet.2011.06.012). *Agricultural and Forest Meteorology* **151**, 1545–1555 (2011).</span>\n",
    "\n",
    "<span class=\"csl-left-margin\">30. </span><span class=\"csl-right-inline\">T. Li, T. Hasegawa, X. Yin, Y. Zhu, K. Boote, M. Adam, S. Bregaglio, S. Buis, R. Confalonieri, T. Fumoto, D. Gaydon, M. Marcaida III, H. Nakagawa, P. Oriol, A. C. Ruane, F. Ruget, B.-. Singh, U. Singh, L. Tang, F. Tao, P. Wilkens, H. Yoshida, Z. Zhang, B. Bouman, [Uncertainties in predicting rice yield by current crop models under a wide range of climatic conditions](https://doi.org/10.1111/gcb.12758). *Global Change Biology* **21**, 1328–1341 (2015).</span>\n",
    "\n",
    "<span class=\"csl-left-margin\">31. </span><span class=\"csl-right-inline\">A.-K. Koehler, A. J. Challinor, E. Hawkins, S. Asseng, [Influences of increasing temperature on Indian wheat: quantifying limits to predictability](https://doi.org/10.1088/1748-9326/8/3/034016). *Environmental Research Letters* **8**, 034016 (2013).</span>\n",
    "\n",
    "<span class=\"csl-left-margin\">32. </span><span class=\"csl-right-inline\">S. Heinicke, K. Frieler, J. Jägermeyr, M. Mengel, [Global gridded crop models underestimate yield responses to droughts and heatwaves](https://doi.org/10.1088/1748-9326/ac592e). *Environmental Research Letters* **17**, 044026 (2022).</span>\n",
    "\n",
    "<span class=\"csl-left-margin\">33. </span><span class=\"csl-right-inline\">H. Ren, J. Bao, Z. Gao, D. Sun, S. Zheng, J. Bai, [How rice adapts to high temperatures](https://doi.org/10.3389/fpls.2023.1137923). *Frontiers in Plant Science* **14** (2023).</span>\n",
    "\n",
    "<span class=\"csl-left-margin\">34. </span><span class=\"csl-right-inline\">A. Berger, M. F. Loutre, [Insolation values for the climate of the last 10 million years](https://doi.org/10.1016/0277-3791(91)90033-Q). *Quaternary Science Reviews* **10**, 297–317 (1991).</span>\n",
    "\n",
    "<span class=\"csl-left-margin\">35. </span><span class=\"csl-right-inline\">D. Q. Fuller, [Pathways to Asian Civilizations: Tracing the Origins and Spread of Rice and Rice Cultures](https://doi.org/10.1007/s12284-011-9078-7). *Rice* **4**, 78–92 (2011).</span>\n",
    "\n",
    "<span class=\"csl-left-margin\">36. </span><span class=\"csl-right-inline\">X. Huang, N. Kurata, X. Wei, Z.-X. Wang, A. Wang, Q. Zhao, Y. Zhao, K. Liu, H. Lu, W. Li, Y. Guo, Y. Lu, C. Zhou, D. Fan, Q. Weng, C. Zhu, T. Huang, L. Zhang, Y. Wang, L. Feng, H. Furuumi, T. Kubo, T. Miyabayashi, X. Yuan, Q. Xu, G. Dong, Q. Zhan, C. Li, A. Fujiyama, A. Toyoda, T. Lu, Q. Feng, Q. Qian, J. Li, B. Han, [A map of rice genome variation reveals the origin of cultivated rice](https://doi.org/10.1038/nature11532). *Nature* **490**, 497–501 (2012).</span>\n",
    "\n",
    "<span class=\"csl-left-margin\">37. </span><span class=\"csl-right-inline\">J. Y. Choi, A. E. Platts, D. Q. Fuller, Y.-I. Hsing (邢禹依), R. A. Wing, M. D. Purugganan, [The rice paradox: Multiple origins but single domestication in asian rice](https://doi.org/10.1093/molbev/msx049). *Molecular Biology and Evolution* **34**, 969–979 (2017).</span>\n",
    "\n",
    "<span class=\"csl-left-margin\">38. </span><span class=\"csl-right-inline\">J. Y. Choi, M. D. Purugganan, [Multiple origin but single domestication led to oryza sativa](https://doi.org/10.1534/g3.117.300334). *G3 Genes\\|Genomes\\|Genetics* **8**, 797–803 (2018).</span>\n",
    "\n",
    "<span class=\"csl-left-margin\">39. </span><span class=\"csl-right-inline\">F. Silva, C. J. Stevens, A. Weisskopf, C. Castillo, L. Qin, A. Bevan, D. Q. Fuller, [Modelling the geographical origin of rice cultivation in asia using the rice archaeological database](https://doi.org/10.1371/journal.pone.0137024). 1–21 (2015).</span>\n",
    "\n",
    "<span class=\"csl-left-margin\">40. </span><span class=\"csl-right-inline\">D. Q. Fuller, A. R. Weisskopf, C. Castillo, [Pathways of Rice Diversification across Asia](http://doi. org/10.5334/ai.1915). *Archaeology International* **19**, 84–96 (2016).</span>\n",
    "\n",
    "<span class=\"csl-left-margin\">41. </span><span class=\"csl-right-inline\">J. Bates, [The fits and starts of indian rice domestication: How the movement of rice across northwest india impacted domestication pathways and agricultural stories](https://doi.org/10.3389/fevo.2022.924977). *Frontiers in Ecology and Evolution* **10** (2022).</span>\n",
    "\n",
    "<span class=\"csl-left-margin\">42. </span><span class=\"csl-right-inline\">R. E. Lanehart, R. H. Tykot, A. P. Underhill, F. Luan, H. Yu, H. Fang, C. Fengshu, G. Feinman, L. Nicholas, [Dietary adaptation during the Longshan period in China: stable isotope analyses at Liangchengzhen (southeastern Shandong)](https://doi.org/10.1016/j.jas.2011.03.011). *Journal of Archaeological Science* **38**, 2171–2181 (2011).</span>\n",
    "\n",
    "<span class=\"csl-left-margin\">43. </span><span class=\"csl-right-inline\">J. d’Alpoim Guedes, G. Jin, R. K. Bocinsky, [The Impact of Climate on the Spread of Rice to North-Eastern China: A New Look at the Data from Shandong Province](https://doi.org/10/f7sgnj). *PLOS ONE* **10**, e0130430 (2015).</span>\n",
    "\n",
    "<span class=\"csl-left-margin\">44. </span><span class=\"csl-right-inline\">J. d’Alpoim Guedes, M. Jiang, K. He, X. Wu, Z. Jiang, [Site of Baodun yields earliest evidence for the spread of rice and foxtail millet agriculture to south-west China](https://doi.org/10.1017/S0003598X00049449). *Antiquity* **87**, 758–771 (2013).</span>\n",
    "\n",
    "<span class=\"csl-left-margin\">45. </span><span class=\"csl-right-inline\">J. d’Alpoim Guedes, E. E. Butler, [Modeling constraints on the spread of agriculture to Southwest China with thermal niche models](https://doi.org/10/f6qj7q). *Quaternary International* **349**, 29–41 (2014).</span>\n",
    "\n",
    "<span class=\"csl-left-margin\">46. </span><span class=\"csl-right-inline\">R. Dal Martello, R. Min, C. Stevens, C. Higham, T. Higham, L. Qin, D. Q. Fuller, [Early agriculture at the crossroads of China and Southeast Asia: Archaeobotanical evidence and radiocarbon dates from Baiyangcun, Yunnan](https://doi.org/10.1016/j.jasrep.2018.06.005). *Journal of Archaeological Science: Reports* **20**, 711–721 (2018).</span>\n",
    "\n",
    "<span class=\"csl-left-margin\">47. </span><span class=\"csl-right-inline\">G. W. Crawford, G.-A. Lee, [Agricultural origins in the Korean Peninsula](https://doi.org/10.1017/S0003598X00061378). *Antiquity* **77**, 87–95 (2003).</span>\n",
    "\n",
    "<span class=\"csl-left-margin\">48. </span><span class=\"csl-right-inline\">S.-M. Ahn, [The emergence of rice agriculture in Korea: archaeobotanical perspectives](https://doi.org/10.1007/s12520-010-0029-9). *Archaeological and Anthropological Sciences* **2**, 89–98 (2010).</span>\n",
    "\n",
    "<span class=\"csl-left-margin\">49. </span><span class=\"csl-right-inline\">X. Yang, W. Wang, Y. Zhuang, Z. Li, Z. Ma, Y. Ma, Y. Cui, J. Wei, D. Q. Fuller, [New radiocarbon evidence on early rice consumption and farming in South China](https://doi.org/10.1177/0959683616678465). *The Holocene* **27**, 1045–1051 (2017).</span>\n",
    "\n",
    "<span class=\"csl-left-margin\">50. </span><span class=\"csl-right-inline\">Z. Deng, B. Huang, Q. Zhang, M. Zhang, [First farmers in the south china coast: New evidence from the gancaoling site of guangdong province](https://doi.org/10.3389/feart.2022.858492). *Frontiers in Earth Science* **10** (2022).</span>\n",
    "\n",
    "<span class=\"csl-left-margin\">51. </span><span class=\"csl-right-inline\">C. C. Castillo, D. Q. Fuller, P. J. Piper, P. Bellwood, M. Oxenham, [Hunter-gatherer specialization in the late Neolithic of southern Vietnam The case of Rach Nui](https://doi.org/10.1016/j.quaint.2016.11.034). *Quaternary International* **489**, 63–79 (2018).</span>\n",
    "\n",
    "<span class=\"csl-left-margin\">52. </span><span class=\"csl-right-inline\">C. F. W. Higham, [Debating a great site: Ban Non Wat and the wider prehistory of Southeast Asia](https://doi.org/10.15184/aqy.2015.113). *Antiquity* **89**, 1211–1220 (2015).</span>\n",
    "\n",
    "<span class=\"csl-left-margin\">53. </span><span class=\"csl-right-inline\">J. d’Alpoim Guedes, S. Hanson, T. Lertcharnrit, A. D. Weiss, V. C. Pigott, C. F. W. Higham, T. F. G. Higham, S. A. Weber, [Three thousand years of farming strategies in central Thailand](https://doi.org/10.15184/aqy.2020.8). *Antiquity* **94**, 966–982 (2020).</span>\n",
    "\n",
    "<span class=\"csl-left-margin\">54. </span><span class=\"csl-right-inline\">C. Xu, T. A. Kohler, T. M. Lenton, J.-C. Svenning, M. Scheffer, [Future of the human climate niche](https://doi.org/10.1073/pnas.1910114117). *Proceedings of the National Academy of Sciences*, 1–6 (2020).</span>\n",
    "\n",
    "<span class=\"csl-left-margin\">55. </span><span class=\"csl-right-inline\">X. Wang, C. Zhao, C. Müller, C. Wang, P. Ciais, I. Janssens, J. Peñuelas, S. Asseng, T. Li, J. Elliott, others, Emergent constraint on crop yield response to warmer temperature from field experiments. *Nature Sustainability* **3**, 908–916 (2020).</span>\n",
    "\n",
    "<span class=\"csl-left-margin\">56. </span><span class=\"csl-right-inline\">S. Minoli, J. Jägermeyr, S. Asseng, A. Urfels, C. Müller, Global crop yields can be lifted by timely adaptation of growing periods to climate change. *Nature Communications* **13**, 7079 (2022).</span>\n",
    "\n",
    "<span class=\"csl-left-margin\">57. </span><span class=\"csl-right-inline\">L. Hannah, P. R. Roehrdanz, K. B. K. C, E. D. G. Fraser, C. I. Donatti, L. Saenz, T. M. Wright, R. J. Hijmans, M. Mulligan, A. Berg, A. van Soesbergen, [The environmental consequences of climate-driven agricultural frontiers](https://doi.org/10.1371/journal.pone.0228305). *PLOS ONE* **15**, e0228305 (2020).</span>\n",
    "\n",
    "<span class=\"csl-left-margin\">58. </span><span class=\"csl-right-inline\">R. Netting, Smallholders, householders. *The Environment in Anthropology: A Reader in Ecology, Culture, and Sustainable Living* **10**, 14 (1993).</span>\n",
    "\n",
    "<span class=\"csl-left-margin\">59. </span><span class=\"csl-right-inline\">S. Peng, J. Huang, J. E. Sheehy, R. C. Laza, R. M. Visperas, X. Zhong, G. S. Centeno, G. S. Khush, K. G. Cassman, [Rice yields decline with higher night temperature from global warming](https://doi.org/10.1073/pnas.0403720101). *Proceedings of the National Academy of Sciences* **101**, 9971–9975 (2004).</span>\n",
    "\n",
    "<span class=\"csl-left-margin\">60. </span><span class=\"csl-right-inline\">W. Willett, J. Rockström, B. Loken, M. Springmann, T. Lang, S. Vermeulen, T. Garnett, D. Tilman, F. DeClerck, A. Wood, others, Food in the anthropocene: The EAT–lancet commission on healthy diets from sustainable food systems. *The lancet* **393**, 447–492 (2019).</span>\n",
    "\n",
    "<span class=\"csl-left-margin\">61. </span><span class=\"csl-right-inline\">A. R. L. Eliazer Nelson, K. Ravichandran, U. Antony, others, The impact of the green revolution on indigenous crops of india. *Journal of Ethnic Foods* **6**, 1–10 (2019).</span>\n",
    "\n",
    "<span class=\"csl-left-margin\">62. </span><span class=\"csl-right-inline\">X. Wang, J. Han, R. Li, L. Qiu, C. Zhang, M. Lu, R. Huang, X. Wang, J. Zhang, H. Xie, S. Li, X. Huang, X. Ouyang, [Gradual daylength sensing coupled with optimum cropping modes enhances multi-latitude adaptation of rice and maize](https://doi.org/10.1016/j.xplc.2022.100433). *Plant Communications* **4**, 100433 (2022).</span>\n",
    "\n",
    "<span class=\"csl-left-margin\">63. </span><span class=\"csl-right-inline\">T. Nomura, Y. Seki, M. Matsuoka, K. Yano, K. Chigira, S. Adachi, F. J. Piñera-Chavez, M. Reynolds, S. Ohkubo, T. Ookawa, [Potential of rice landraces with strong culms as genetic resources for improving lodging resistance against super typhoons](https://doi.org/10.1038/s41598-021-95268-0). *Scientific Reports* **11**, 15780 (2021).</span>\n",
    "\n",
    "<span class=\"csl-left-margin\">64. </span><span class=\"csl-right-inline\">A. C. F. Vasconcelos, M. Bonatti, S. L. Schlindwein, L. R. D’Agostini, L. R. Homem, R. Nelson, [Landraces as an adaptation strategy to climate change for smallholders in Santa Catarina, Southern Brazil](https://doi.org/10.1016/j.landusepol.2013.03.017). *Land Use Policy* **34**, 250–254 (2013).</span>\n",
    "\n",
    "<span class=\"csl-left-margin\">65. </span><span class=\"csl-right-inline\">K. L. McNally, A. Henry, [Tools for using the International Rice Genebank to breed for climate-resilient varieties](https://doi.org/10.1371/journal.pbio.3002215). *PLOS Biology* **21**, e3002215 (2023).</span>\n",
    "\n",
    "<span class=\"csl-left-margin\">66. </span><span class=\"csl-right-inline\">A. Hour, W. Hsieh, S. Chang, Y. Wu, H. Chin, Y. Lin, [Genetic Diversity of Landraces and Improved Varieties of Rice (Oryza sativa L.) in Taiwan](https://doi.org/10.1186/s12284-020-00445-w). *Rice* **13**, 82 (2020).</span>\n",
    "\n",
    "<span class=\"csl-left-margin\">67. </span><span class=\"csl-right-inline\">M. J. Thomson, E. M. Septiningsih, F. Suwardjo, T. J. Santoso, T. S. Silitonga, S. R. McCouch, [Genetic diversity analysis of traditional and improved Indonesian rice (Oryza sativa L.) germplasm using microsatellite markers](https://doi.org/10.1007/s00122-006-0457-1). *Theoretical and Applied Genetics* **114**, 559–568 (2007).</span>\n",
    "\n",
    "<span class=\"csl-left-margin\">68. </span><span class=\"csl-right-inline\">A. C. McAlvay, A. DiPaola, A. C. D’Andrea, M. L. Ruelle, M. Mosulishvili, P. Halstead, A. G. Power, [Cereal species mixtures: an ancient practice with potential for climate resilience. A review](https://doi.org/10.1007/s13593-022-00832-1). *Agronomy for Sustainable Development* **42**, 100 (2022).</span>\n",
    "\n",
    "<span class=\"csl-left-margin\">69. </span><span class=\"csl-right-inline\">G. Keneni, E. Bekele, M. Imtiaz, K. Dagne, [Genetic Vulnerability of Modern Crop Cultivars: Causes, Mechanism and Remedies](https://doi.org/10.5923/j.plant.20120203.05). *International Journal of Plant Research* **2**, 69–79 (2012).</span>\n",
    "\n",
    "<span class=\"csl-left-margin\">70. </span><span class=\"csl-right-inline\">C. Gain, B. Rhoné, P. Cubry, I. Salazar, F. Forbes, Y. Vigouroux, F. Jay, O. François, [A Quantitative Theory for Genomic Offset Statistics](https://doi.org/10.1093/molbev/msad140). *Molecular biology and evolution* **40**, msad140 (2023).</span>\n",
    "\n",
    "<span class=\"csl-left-margin\">71. </span><span class=\"csl-right-inline\">P. Brun, N. E. Zimmermann, C. Hari, L. Pellissier, D. N. Karger, CHELSA-BIOCLIM+ a novel set of global climate-related predictors at kilometre-resolution. <https://doi.org/10.16904/envidat.332>.</span>\n",
    "\n",
    "<span class=\"csl-left-margin\">72. </span><span class=\"csl-right-inline\">H. Hersbach, B. Bell, P. Berrisford, S. Hirahara, A. Horányi, J. Muñoz-Sabater, J. Nicolas, C. Peubey, R. Radu, D. Schepers, A. Simmons, C. Soci, S. Abdalla, X. Abellan, G. Balsamo, P. Bechtold, G. Biavati, J. Bidlot, M. Bonavita, G. De Chiara, P. Dahlgren, D. Dee, M. Diamantakis, R. Dragani, J. Flemming, R. Forbes, M. Fuentes, A. Geer, L. Haimberger, S. Healy, R. J. Hogan, E. Hólm, M. Janisková, S. Keeley, P. Laloyaux, P. Lopez, C. Lupu, G. Radnoti, P. de Rosnay, I. Rozum, F. Vamborg, S. Villaume, J.-N. Thépaut, [The ERA5 global reanalysis](https://doi.org/10.1002/qj.3803). *Quarterly Journal of the Royal Meteorological Society* **146**, 1999–2049 (2020).</span>\n",
    "\n",
    "<span class=\"csl-left-margin\">73. </span><span class=\"csl-right-inline\">V. Eyring, S. Bony, G. A. Meehl, C. A. Senior, B. Stevens, R. J. Stouffer, K. E. Taylor, [Overview of the coupled model intercomparison project phase 6 (CMIP6) experimental design and organization](https://doi.org/10.5194/gmd-9-1937-2016). *Geoscientific Model Development* **9**, 1937–1958 (2016).</span>\n",
    "\n",
    "<span class=\"csl-left-margin\">74. </span><span class=\"csl-right-inline\">S. Lange, [Trend-preserving bias adjustment and statistical downscaling with ISIMIP3BASD (v1.0)](https://doi.org/10.5194/gmd-12-3055-2019). *Geoscientific Model Development* **12**, 3055–3070 (2019).</span>\n",
    "\n",
    "<span class=\"csl-left-margin\">75. </span><span class=\"csl-right-inline\">D. N. Karger, M. P. Nobis, S. Normand, C. H. Graham, N. E. Zimmermann, [CHELSA-TraCE21k high-resolution (1km) downscaled transient temperature and precipitation data since the last glacial maximum](https://doi.org/10.5194/cp-19-439-2023). *Climate of the Past* **19**, 439–456 (2023).</span>\n",
    "\n",
    "<span class=\"csl-left-margin\">76. </span><span class=\"csl-right-inline\">F. He, “Simulating transient climate evolution of the last deglaciation with CCSM3,” thesis, Madison (2011).</span>\n",
    "\n",
    "<span class=\"csl-left-margin\">77. </span><span class=\"csl-right-inline\">S. a. Marcott, J. D. Shakun, P. U. Clark, A. C. Mix, [A reconstruction of regional and global temperature for the past 11,300 years.](https://doi.org/10.1126/science.1228026) *Science (New York, N.Y.)* **339**, 1198–201 (2013).</span>\n",
    "\n",
    "<span class=\"csl-left-margin\">78. </span><span class=\"csl-right-inline\">Z. Liu, J. Zhu, Y. Rosenthal, X. Zhang, B. L. Otto-Bliesner, A. Timmermann, R. S. Smith, G. Lohmann, W. Zheng, O. Elison Timm, [The holocene temperature conundrum](https://doi.org/10.1073/pnas.1407229111). *Proceedings of the National Academy of Sciences*, 1–5 (2014).</span>\n",
    "\n",
    "<span class=\"csl-left-margin\">79. </span><span class=\"csl-right-inline\">F. He, P. U. Clark, [Freshwater forcing of the Atlantic Meridional Overturning Circulation revisited](https://doi.org/10.1038/s41558-022-01328-2). *Nature Climate Change* **12**, 449–454 (2022).</span>\n",
    "\n",
    "<span class=\"csl-left-margin\">80. </span><span class=\"csl-right-inline\">W. Zhang, H. Wu, J. Cheng, J. Geng, Q. Li, Y. Sun, Y. Yu, H. Lu, Z. Guo, [Holocene seasonal temperature evolution and spatial variability over the Northern Hemisphere landmass](https://doi.org/10.1038/s41467-022-33107-0). *Nature Communications* **13**, 5334 (2022).</span>\n",
    "\n",
    "<span class=\"csl-left-margin\">81. </span><span class=\"csl-right-inline\">M. B. Osman, J. E. Tierney, J. Zhu, R. Tardif, G. J. Hakim, J. King, C. J. Poulsen, [Globally resolved surface temperatures since the Last Glacial Maximum](https://doi.org/10/gndxqj). *Nature* **599**, 239–244 (2021).</span>\n",
    "\n",
    "<span class=\"csl-left-margin\">82. </span><span class=\"csl-right-inline\">M. P. Erb, N. P. McKay, N. Steiger, S. Dee, C. Hancock, R. F. Ivanovic, L. J. Gregoire, P. Valdes, [Reconstructing Holocene temperatures in time and space using paleoclimate data assimilation](https://doi.org/10.5194/cp-18-2599-2022). *Climate of the Past* **18**, 2599–2629 (2022).</span>\n",
    "\n",
    "<span class=\"csl-left-margin\">83. </span><span class=\"csl-right-inline\">J. d’Alpoim. Guedes, R. K. Bocinsky, [Climate change stimulated agricultural innovation and exchange across asia](https://doi.org/10.1126/sciadv.aar4491). *Science Advances* **4**, 1–13 (2018).</span>\n",
    "\n",
    "<span class=\"csl-left-margin\">84. </span><span class=\"csl-right-inline\">O. Alam, R. M. Gutaker, C. Wu, K. A. Hicks, K. Bocinsky, C. C. Castillo, S. Acabado, D. Fuller, J. A. d’Alpoim Guedes, Y. Hsing, M. D. Purugganan, [Genome analysis traces regional dispersal of rice in Taiwan and Southeast Asia](https://doi.org/10.1093/molbev/msab209). *Molecular Biology and Evolution* **38**, 4832–4846 (2021).</span>\n",
    "\n",
    "<span class=\"csl-left-margin\">85. </span><span class=\"csl-right-inline\">C. Gain, O. François, [LEA 3: Factor models in population genetics and ecological genomics with R](https://doi.org/10.1111/1755-0998.13366). *Molecular Ecology Resources* **21**, 2738–2748 (2021).</span>\n",
    "\n",
    "<span class=\"csl-left-margin\">86. </span><span class=\"csl-right-inline\">R Core Team, [R: A language and environment for statistical computing](https://www.R-project.org/). (2022).</span>\n",
    "\n",
    "# Acknowledgements\n",
    "\n",
    "**Funding:** This work was supported by a grant from the Zegar Family Foundation.\n",
    "\n",
    "**Author contributions:** Conceptualization: NG, JDG. Methodology: NG, OA, MP, JDG. Software: NG, OA. Formal Analysis: NG, OA. Validation: NG, JDG. Data Curation: NG, OA, JDG. Writing—original draft: NG, JDG. Writing—review and editing: NG, OA, MP, JDG. Visualization: NG. Supervision: MP, JDG. Funding Acquisition: MP, JDG.\n",
    "\n",
    "**Competing interests:** The authors declare that they have no competing interests.\n",
    "\n",
    "**Data and materials availability:** All analyses carried out in `R` ([*86*](#ref-base)). The analysis is run via reproducible `.qmd` notebooks available [here](https://github.com/nick-gauthier/rice). All data required to reproduce the main analysis and figures are included with the linked code repository or available from public sources referenced therein."
   ],
   "id": "522e472c-0fea-4ea7-afc9-bae310ce8911"
  },
  {
   "cell_type": "raw",
   "metadata": {
    "raw_mimetype": "tex"
   },
   "source": [
    "\\newpage\n",
    "\\appendix\n",
    "\\renewcommand{\\thefigure}{S\\arabic{figure}}\n",
    "\\renewcommand{\\thetable}{S\\arabic{table}}\n",
    "\\setcounter{figure}{0}\n",
    "\\setcounter{table}{0}"
   ],
   "id": "cf1e0f6b-2279-4aa8-a802-8fbc444b7143"
  },
  {
   "cell_type": "markdown",
   "metadata": {},
   "source": [
    "# Supplementary Materials\n",
    "\n",
    "Supplementary Materials for **Projected warming will exceed the long-term thermal limits of rice cultivation**\n",
    "\n",
    "Nicolas Gauthier, Ornob Alam, Michael D. Purugganan, Jade d’Alpoim Guedes\n",
    "\n",
    "Corresponding author: nicolas.gauthier@ufl.edu\n",
    "\n",
    "**This PDF file includes:**\n",
    "\n",
    "-   Figures S1 to S9\n",
    "\n",
    "-   Tables S1 to S4"
   ],
   "id": "e11d5010-8309-449d-a6c7-a07f67f4746d"
  },
  {
   "cell_type": "code",
   "execution_count": null,
   "metadata": {
    "fig-unnumbered": true
   },
   "outputs": [
    {
     "output_type": "display_data",
     "metadata": {},
     "data": {}
    }
   ],
   "source": [
    "chelsa_wrld <- readRDS(here('data/derived/chelsa_world_downsampled.rds'))\n",
    "\n",
    "current_limits_1 <- ggplot() +\n",
    "  geom_stars(data = chelsa_wrld[1] >= units::drop_units(bio1_limit)) +\n",
    "  scale_fill_manual(values = c('#fee8c8', '#e34a33'), \n",
    "                    name = paste0('MAT > ', bio1_limit), \n",
    "                    na.value = NA, na.translate = FALSE) +\n",
    "  geom_sf(data = coasts_world) +\n",
    "  labs(x = '', y = '') +\n",
    "  coord_sf(expand = FALSE)\n",
    "\n",
    "current_limits_5 <- ggplot() +\n",
    "  geom_stars(data = chelsa_wrld[2] >= units::drop_units(bio5_limit)) +\n",
    "  scale_fill_manual(values = c('#fee8c8', '#e34a33'), \n",
    "                    name = paste0('TMAX > ', bio5_limit), \n",
    "                    na.value = NA, na.translate = FALSE) +\n",
    "  geom_sf(data = coasts_world) +\n",
    "  labs(x = '', y = '') +\n",
    "  coord_sf(expand = FALSE)\n",
    "\n",
    "current_limits_10 <- ggplot() +\n",
    "  geom_stars(data = chelsa_wrld[3] >= units::drop_units(bio10_limit)) +\n",
    "    scale_fill_manual(values = c('#fee8c8', '#e34a33'), \n",
    "                       name = paste0('TWARM > ', bio10_limit),\n",
    "                    na.value = NA, na.translate = FALSE) +\n",
    "  geom_sf(data = coasts_world) +\n",
    "  labs(x = '', y = '') +\n",
    "  coord_sf(expand = FALSE)\n",
    "\n",
    "current_limits_1 / current_limits_5 / current_limits_10 + plot_annotation(tag_levels = 'A', tag_suffix = ')') "
   ],
   "id": "cell-fig-current-limits"
  },
  {
   "cell_type": "markdown",
   "metadata": {},
   "source": [],
   "id": "24eddd61-0f87-4351-a416-92d83c9ed597"
  },
  {
   "cell_type": "code",
   "execution_count": null,
   "metadata": {
    "fig-unnumbered": true
   },
   "outputs": [
    {
     "output_type": "stream",
     "name": "stderr",
     "text": [
      "`stat_bin()` using `bins = 30`. Pick better value with `binwidth`."
     ]
    },
    {
     "output_type": "display_data",
     "metadata": {},
     "data": {}
    }
   ],
   "source": [
    "trace_boot <- readRDS('data/derived/trace_boot.rds')\n",
    "\n",
    "# contemporary quantiles for plotting\n",
    "quant_dat <- quant_975 |>\n",
    "              select(-quantile) |>\n",
    "              setNames(c('MAT', 'tmax', 'twarm')) |>\n",
    "              pivot_longer(everything())\n",
    "\n",
    "boot_1 <- trace_boot %>%\n",
    "  select(rep, MAT:twarm) %>%\n",
    "  pivot_longer(MAT:twarm) %>%\n",
    "  group_by(rep, name) %>%\n",
    "  tidy_kde() %>%\n",
    "ggplot(aes(value, estimate)) +\n",
    "  geom_line(alpha = 0.01, aes(group = rep)) +\n",
    "  facet_wrap(~name, scales = 'free_y', nrow = 3) +\n",
    "  geom_vline(data = quant_dat, aes(xintercept = as.numeric(value)), linetype = 2, color = 'red') +\n",
    "  labs(x = 'Temperature')\n",
    "\n",
    "boot_2 <- trace_boot %>%\n",
    "  pivot_longer(MAT:twarm, values_to = 'temperature') %>%\n",
    "  mutate(temperature = units::set_units(temperature, 'degree_c')) %>%\n",
    "  group_by(rep, name) %>%\n",
    "  reframe(value = quantile(temperature, 0.975, type = 8)) %>%\n",
    "  ggplot(aes(value)) +\n",
    "    geom_histogram() +\n",
    "    facet_wrap(~name, scales = 'free_x', nrow = 3) +\n",
    "    labs(x = 'Temperature') +\n",
    "    theme_bw() +\n",
    "    geom_vline(data = quant_dat, aes(xintercept = value), linetype = 2, color = 'red')\n",
    "\n",
    "rm(trace_boot, quant_dat)\n",
    "\n",
    "boot_1 + boot_2 +  plot_annotation(tag_levels = 'A')"
   ],
   "id": "cell-fig-bootstrap"
  },
  {
   "cell_type": "markdown",
   "metadata": {},
   "source": [],
   "id": "3b1570a5-e31b-4227-ae55-8e6968bede78"
  },
  {
   "cell_type": "code",
   "execution_count": null,
   "metadata": {
    "fig-unnumbered": true
   },
   "outputs": [
    {
     "output_type": "display_data",
     "metadata": {},
     "data": {}
    }
   ],
   "source": [
    "trace_ts <- read_rds(here('data/derived/trace_ts.rds'))\n",
    "\n",
    "a <- trace_ts |>\n",
    "  pivot_longer(-time) |>\n",
    "  mutate(name = factor(case_when(name == 'bio1' ~ 'Mean annual temperature',\n",
    "                                 name == 'bio5' ~  'Max temperature of warmest month',\n",
    "                                 name == 'bio10' ~  'Max temperature of the warmest quarter'),\n",
    "                        levels = c('Mean annual temperature', \n",
    "                                   'Max temperature of the warmest quarter',\n",
    "                                   'Max temperature of warmest month'))) |>\n",
    "  ggplot() +\n",
    "  geom_line(aes(time, value, group = name)) +\n",
    "  facet_wrap(~name, scales = 'free_y', ncol = 1) +\n",
    "  labs(x = 'Time (ka BP)', y = 'Temperature (C)') +\n",
    "  scale_x_reverse(breaks = seq(0, 12, 2)) +\n",
    "  theme_bw()\n",
    "\n",
    "# Calculate the area-weighted averaged temperatures and uncertainties from the Erb et al. reconstruction and save the results.\n",
    "erb_rast <- read_rds(here('data/derived/erb_rast.rds'))\n",
    "\n",
    "erb_area_total <- st_area(erb_rast) |>\n",
    "  pull(area) |> \n",
    "  sum()\n",
    "\n",
    "erb_ts <- (erb_rast * st_area(erb_rast)) |>\n",
    "  st_apply(3, sum)  |>\n",
    "  as_tibble() |>\n",
    "  mutate(across(-ages, ~units::drop_units(.x / erb_area_total)),\n",
    "         time = ages / 1000) |>\n",
    "  select(-ages)\n",
    "\n",
    "# Do the same for the LGMR, although this is more complicated as we have to calculate the anomalies by hand for comparison to Erb.\n",
    "\n",
    "lgmr_rast <- read_rds('data/derived/lgmr_rast.rds')\n",
    "\n",
    "lgmr_mean_reference <- lgmr_rast |>\n",
    "  filter(between(time, 3000, 5000)) |>\n",
    "  st_apply(1:2, mean)\n",
    "\n",
    "lgmr_sd_reference <- lgmr_rast |>\n",
    "  filter(between(time, 3000, 5000)) |> \n",
    "  select(sat_std) |>\n",
    "  # we need to account for uncertainty in the reference period too\n",
    "  st_apply(1:2, function(x) sqrt(sum(x^2) / 11) / sqrt(11)) # 11 is the number of time steps\n",
    "\n",
    "lgmr_uncertainty <- sqrt(lgmr_rast['sat_std'] ^ 2 + lgmr_sd_reference ^ 2)\n",
    "\n",
    "lgmr_rast_anom <- lgmr_rast['sat'] - lgmr_mean_reference['sat']\n",
    "\n",
    "lgmr_anomalies <- c(anom = lgmr_rast_anom,\n",
    "  anom_upper = lgmr_rast_anom + lgmr_uncertainty,\n",
    "  anom_lower = lgmr_rast_anom - lgmr_uncertainty)\n",
    "\n",
    "lgmr_area_total <- st_area(lgmr_rast_anom) |>\n",
    "  as_tibble() |>\n",
    "  pull(area) |>\n",
    "  sum()\n",
    "\n",
    "lgmr_anom_ts <- (lgmr_anomalies * st_area(lgmr_rast_anom)) |>\n",
    "  st_apply(3, sum)  |>\n",
    "  as_tibble() |>\n",
    "    mutate(across(-time, ~units::drop_units(.x / lgmr_area_total)),\n",
    "           time = time / 1000)\n",
    "\n",
    "b <- ggplot(data = lgmr_anom_ts, aes(x = time)) +\n",
    "  geom_line(aes(y = anom)) +\n",
    "  geom_ribbon(aes(ymin = anom_lower, ymax = anom_upper), alpha = 0.1) +\n",
    "  geom_line(data = trace_ts, aes(x = time, y = bio1 - 19.737), color = 'red') +\n",
    "    geom_line(data = erb_ts, aes(y = sat_mean), color = 'blue') +\n",
    "    geom_ribbon(data = erb_ts, aes(ymin = sat_low , ymax = sat_high), alpha = 0.1, fill = 'blue') +\n",
    "  scale_x_reverse(breaks = seq(0, 12, 2))  +\n",
    "  labs(x = 'Time (ka BP)', y = 'Temperature anomaly (C)') \n",
    "\n",
    "b + a + plot_layout(guides = 'collect', axes = 'collect') + plot_annotation(tag_levels = 'A', tag_suffix = ')')"
   ],
   "id": "cell-fig-recon-timeseries"
  },
  {
   "cell_type": "markdown",
   "metadata": {},
   "source": [],
   "id": "c1b681d0-c4a1-4dac-b85c-5f413c4553a0"
  },
  {
   "cell_type": "code",
   "execution_count": null,
   "metadata": {
    "fig-unnumbered": true
   },
   "outputs": [
    {
     "output_type": "stream",
     "name": "stderr",
     "text": [
      "New names:\n",
      "• `time` -> `time...9`\n",
      "• `time` -> `time...14`"
     ]
    },
    {
     "output_type": "stream",
     "name": "stderr",
     "text": [
      "Picking joint bandwidth of 0.976\n",
      "Picking joint bandwidth of 0.833"
     ]
    },
    {
     "output_type": "stream",
     "name": "stderr",
     "text": [
      "Warning: Removed 3 rows containing non-finite outside the scale range\n",
      "(`stat_density_ridges()`)."
     ]
    },
    {
     "output_type": "stream",
     "name": "stderr",
     "text": [
      "Picking joint bandwidth of 0.481"
     ]
    },
    {
     "output_type": "display_data",
     "metadata": {},
     "data": {}
    }
   ],
   "source": [
    "new_lgmr_times <- lgmr_rast |>\n",
    "  st_get_dimension_values('time') |>\n",
    "  years() %>%\n",
    "  `-`(ym('1950-01'), .)\n",
    "\n",
    "lgmr2 <- lgmr_rast |>\n",
    "  st_set_dimensions('time', values = (new_lgmr_times)) %>%\n",
    "  .[,,,61:1]\n",
    "\n",
    "lgmr_extract_test <- arch_trace_dat |>\n",
    "  mutate(time = ym('1950-01') - years(as.integer(med_age) * -1)) %>%\n",
    "  st_extract(lgmr2, ., time_column = 'time', interpolate_time = TRUE) %>%\n",
    "  st_drop_geometry() %>%\n",
    "  bind_cols(arch_trace_dat, .) |>\n",
    "  remove_missing()"
   ],
   "id": "cell-fig-kde-lgmr"
  },
  {
   "cell_type": "markdown",
   "metadata": {},
   "source": [],
   "id": "d33116e1-df83-439f-9e36-b22b4326ac64"
  },
  {
   "cell_type": "code",
   "execution_count": null,
   "metadata": {
    "fig-unnumbered": true
   },
   "outputs": [
    {
     "output_type": "display_data",
     "metadata": {},
     "data": {}
    }
   ],
   "source": [
    "country_stats %>% \n",
    "  ggplot(aes(ssp, percent, group = variable, color = variable)) +\n",
    "  facet_wrap(~name) +\n",
    "  scale_color_manual(values = c('#abdda4', '#fdae61', '#d7191c'\n",
    ")) +\n",
    "  geom_line(linewidth = .8) +\n",
    "  geom_point() +\n",
    "  theme(axis.text.x = element_text(size = 6, angle = 45, hjust = 1))"
   ],
   "id": "cell-fig-country-summaries"
  },
  {
   "cell_type": "markdown",
   "metadata": {},
   "source": [],
   "id": "3c041bd0-8004-4b7b-a503-e350c3ea9565"
  },
  {
   "cell_type": "code",
   "execution_count": null,
   "metadata": {
    "fig-unnumbered": true
   },
   "outputs": [
    {
     "output_type": "stream",
     "name": "stderr",
     "text": [
      "Warning: Removed 5639895 rows containing missing values or values outside the scale\n",
      "range (`geom_raster()`)."
     ]
    },
    {
     "output_type": "display_data",
     "metadata": {},
     "data": {}
    }
   ],
   "source": [
    "ggplot() +\n",
    "  geom_stars(data = slice(cmip6_maps, 'variable', 1) > units::drop_units(bio1_limit)) +\n",
    "  facet_grid(model~ssp) +\n",
    "  scale_fill_manual(values = c('#fee8c8', '#e34a33'), \n",
    "                    name = paste0('MAT > ', bio1_limit), \n",
    "                    na.value = NA, na.translate = FALSE) +\n",
    "  geom_sf(data = coasts) +\n",
    "  labs(x = '', y = '') +\n",
    "  theme(\n",
    "    axis.text.x = element_text(size = 5, angle = 45, hjust = 1),\n",
    "    axis.text.y = element_text(size = 5)\n",
    "  )"
   ],
   "id": "cell-fig-niche-all-models-bio1"
  },
  {
   "cell_type": "markdown",
   "metadata": {},
   "source": [],
   "id": "e87a9bd4-473d-4fd2-87cb-8f4e601bdbc1"
  },
  {
   "cell_type": "code",
   "execution_count": null,
   "metadata": {
    "fig-unnumbered": true
   },
   "outputs": [
    {
     "output_type": "stream",
     "name": "stderr",
     "text": [
      "Warning: Removed 5639895 rows containing missing values or values outside the scale\n",
      "range (`geom_raster()`)."
     ]
    },
    {
     "output_type": "display_data",
     "metadata": {},
     "data": {}
    }
   ],
   "source": [
    "ggplot() +\n",
    "  geom_stars(data = slice(cmip6_maps, 'variable', 2) > units::drop_units(bio10_limit)) +\n",
    "  facet_grid(model~ssp) +\n",
    "  scale_fill_manual(values = c('#fee8c8', '#e34a33'), \n",
    "                       name = paste0('TWARM > ', bio10_limit),\n",
    "                    na.value = NA, na.translate = FALSE) +\n",
    "  geom_sf(data = coasts) +\n",
    "  labs(x = '', y = '')+\n",
    "  theme(\n",
    "    axis.text.x = element_text(size = 5, angle = 45, hjust = 1),\n",
    "    axis.text.y = element_text(size = 5)\n",
    "  )"
   ],
   "id": "cell-fig-niche-all-models-bio10"
  },
  {
   "cell_type": "markdown",
   "metadata": {},
   "source": [],
   "id": "edc9eb9d-f243-4076-9f16-ec44ee9955cf"
  },
  {
   "cell_type": "code",
   "execution_count": null,
   "metadata": {
    "fig-unnumbered": true
   },
   "outputs": [
    {
     "output_type": "stream",
     "name": "stderr",
     "text": [
      "Warning: Removed 5639895 rows containing missing values or values outside the scale\n",
      "range (`geom_raster()`)."
     ]
    },
    {
     "output_type": "display_data",
     "metadata": {},
     "data": {}
    }
   ],
   "source": [
    "ggplot() +\n",
    "  geom_stars(data = slice(cmip6_maps, 'variable', 3) > units::drop_units(bio5_limit)) +\n",
    "  facet_grid(model~ssp) +\n",
    "  scale_fill_manual(values = c('#fee8c8', '#e34a33'), \n",
    "                    name = paste0('TMAX > ', bio5_limit), \n",
    "                    na.value = NA, na.translate = FALSE) +\n",
    "  geom_sf(data = coasts) +\n",
    "  labs(x = '', y = '') +\n",
    "  theme(\n",
    "    axis.text.x = element_text(size = 5, angle = 45, hjust = 1),\n",
    "    axis.text.y = element_text(size = 5)\n",
    "  )"
   ],
   "id": "cell-fig-niche-all-models-bio5"
  },
  {
   "cell_type": "markdown",
   "metadata": {},
   "source": [],
   "id": "488224b2-bcac-471a-8a1f-e7a473799fb1"
  },
  {
   "cell_type": "code",
   "execution_count": null,
   "metadata": {
    "fig-unnumbered": true
   },
   "outputs": [
    {
     "output_type": "display_data",
     "metadata": {},
     "data": {}
    }
   ],
   "source": [
    "list(japonica = readRDS(here('data/derived/japonica_lat_shift.rds')),\n",
    "     indica = readRDS(here('data/derived/indica_lat_shift.rds'))) |>\n",
    "  bind_rows(.id = 'landrace') |>\n",
    "  mutate(ssp = case_when(name == 'diff2.6' ~ 'SSP1-2.6',\n",
    "                         name == 'diff7.0' ~ 'SSP3-7.0',\n",
    "                         name == 'diff8.5' ~ 'SSP5-8.5')) |>\n",
    "ggplot(aes(x = value, fill = ssp)) +\n",
    "  geom_density(alpha = 0.3) +\n",
    "  facet_grid(landrace ~ ssp) +\n",
    "  geom_vline(xintercept = 0, linetype = 2) +\n",
    "  scale_fill_brewer(palette = 'Spectral', direction = -1) +\n",
    "  labs(x = 'Latitudinal displacement (degrees)')"
   ],
   "id": "cell-fig-displacement"
  },
  {
   "cell_type": "markdown",
   "metadata": {},
   "source": [],
   "id": "41d39e6d-3b0c-49c5-ac4f-15a164a3d1f0"
  },
  {
   "cell_type": "code",
   "execution_count": null,
   "metadata": {},
   "outputs": [],
   "source": [
    "quants_mod_monfreda <- monfreda_occ %>%\n",
    "  st_drop_geometry() %>%\n",
    "  select(bio1, bio5, bio10) %>%\n",
    "  mutate(across(everything(), ~set_units(.x, 'degree_C'))) %>%\n",
    "  reframe(across(everything(), \n",
    "                   ~quantile(.x, quantiles, type = 8))) %>%\n",
    "  round(1) %>%\n",
    "  mutate(quantile = quantiles, .before = 1)\n",
    "\n",
    "quants_mod_gbif <- occ_dat %>%\n",
    "  st_drop_geometry() %>%\n",
    "  select(bio1, bio5, bio10) %>%\n",
    "  mutate(across(everything(), ~set_units(.x, 'degree_C'))) %>%\n",
    "  reframe(across(everything(), \n",
    "                   ~quantile(.x, quantiles, type = 8))) %>%\n",
    "  round(1) %>%\n",
    "  mutate(quantile = quantiles, .before = 1)\n",
    "\n",
    "quants_arch <- arch_trace_dat %>%\n",
    "  st_drop_geometry() %>%\n",
    "  select(bio1 = MAT, bio5 = tmax, bio10 = twarm) %>%\n",
    "  mutate(across(everything(), ~set_units(.x, 'degree_C'))) %>%\n",
    "  reframe(across(everything(), \n",
    "                   ~quantile(.x, quantiles, type = 8))) %>%\n",
    "  round(1) %>%\n",
    "  mutate(quantile = quantiles, .before = 1)\n",
    "\n",
    "\n",
    "# left_join(quants_mod, quants_mod_monfreda, by = 'quantile') %>%\n",
    "#  left_join(quants_mod_gbif, by = 'quantile') %>%\n",
    "#  left_join(quants_arch, by = 'quantile') %>%\n",
    "#  drop_units() %>% # do we want celsius units?\n",
    "#  mutate(quantile = set_units(quantile * 100, '%')) %>%\n",
    "#  select(quantile, bio1.x, bio1.y, bio1.x.x, bio1.y.y, bio5.x, bio5.y, bio5.x.x, bio5.y.y, bio10.x, bio10.y, bio10.x.x, bio10.y.y) %>%\n",
    "#   setNames(c('Quantile', rep(c('IRRI', 'Mon.', 'GBIF', 'Arch.'), 3))) %>%\n",
    "#   knitr::kable(format = 'pipe') |>\n",
    "#   #knitr::kable(format = fmt, booktabs = knitr::is_latex_output(), align = \"c\") |>\n",
    "#   kableExtra::add_header_above(tibble(names = c('', 'MAT', 'TMAX', 'TWARM'), spans = c(1,4,4,4)))\n",
    "#  # kableExtra::kable_styling(full_width = FALSE, latex_options = c(\"hold_position\"))\n",
    "\n",
    "\n",
    "left_join(quants_mod, quants_mod_monfreda, by = 'quantile') %>%\n",
    " left_join(quants_mod_gbif, by = 'quantile') %>%\n",
    " left_join(quants_arch, by = 'quantile') %>%\n",
    " drop_units() %>%\n",
    " mutate(quantile = set_units(quantile * 100, '%')) %>%\n",
    " select(Quantile = quantile, bio1.x, bio1.y, bio1.x.x, bio1.y.y, bio5.x, bio5.y, bio5.x.x, bio5.y.y, bio10.x, bio10.y, bio10.x.x, bio10.y.y) %>%\n",
    " gt() %>%\n",
    " tab_spanner(label = \"MAT\", columns = 2:5) %>%\n",
    " tab_spanner(label = \"TMAX\", columns = 6:9) %>%\n",
    " tab_spanner(label = \"TWARM\", columns = 10:13) %>%\n",
    " cols_label(\n",
    "   bio1.x = \"IRRI\", bio1.y = \"Mon.\", bio1.x.x = \"GBIF\", bio1.y.y = \"Arch.\",\n",
    "   bio5.x = \"IRRI\", bio5.y = \"Mon.\", bio5.x.x = \"GBIF\", bio5.y.y = \"Arch.\",\n",
    "   bio10.x = \"IRRI\", bio10.y = \"Mon.\", bio10.x.x = \"GBIF\", bio10.y.y = \"Arch.\"\n",
    " ) %>%\n",
    " cols_align(align = \"center\")"
   ],
   "id": "e0d28226-613c-4e53-b53e-141ccd87a891"
  },
  {
   "cell_type": "markdown",
   "metadata": {},
   "source": [],
   "id": "e7306563-1b1a-4e20-9410-bee9ed89c95f"
  },
  {
   "cell_type": "code",
   "execution_count": null,
   "metadata": {},
   "outputs": [],
   "source": [
    "# this is total land area??\n",
    "# country_stats %>%\n",
    "#   filter(variable == 'Mean annual temperature') %>%\n",
    "#   select(-percent, -area) %>%\n",
    "#   pivot_wider(names_from = ssp, \n",
    "#               values_from = sum) %>%\n",
    "#   select(Country = name, Present = present, `SSP1-2.6`:`SSP5-8.5`) %>%\n",
    "#   summarise(across(Present:`SSP5-8.5`, ~sum(.x))) %>%\n",
    "#   mutate(across(everything(), ~.x / Present))\n",
    "#fmt <- if (knitr::is_latex_output()) \"latex\" else \"html\"\n",
    "\n",
    "country_stats %>%\n",
    "  mutate(percent = round(percent)) %>%\n",
    "  filter(variable == 'Mean annual temperature') %>%\n",
    "  select(-sum, -area) %>%\n",
    "  pivot_wider(names_from = ssp, values_from = percent) %>%\n",
    "  select(Country = name, Present = present, `SSP1-2.6`:`SSP5-8.5`) %>%\n",
    "  knitr::kable(format = 'pipe')"
   ],
   "id": "8f9f7b22-3b14-4d16-9019-7aad9a16d541"
  },
  {
   "cell_type": "markdown",
   "metadata": {},
   "source": [],
   "id": "44beb85c-3f36-46d0-a396-aa416ea40e96"
  },
  {
   "cell_type": "code",
   "execution_count": null,
   "metadata": {},
   "outputs": [],
   "source": [
    "country_stats %>%\n",
    "  mutate(percent = round(percent)) %>%\n",
    "  filter(variable == 'Max temperature of warmest quarter') %>%\n",
    "  select(-sum, -area) %>%\n",
    "  pivot_wider(names_from = ssp, values_from = percent) %>%\n",
    "  select(Country = name, Present = present, `SSP1-2.6`:`SSP5-8.5`) %>%\n",
    "  knitr::kable(format = 'pipe')"
   ],
   "id": "97c63fbe-5498-4102-897c-c4638ac601f5"
  },
  {
   "cell_type": "markdown",
   "metadata": {},
   "source": [],
   "id": "0c36368b-bec8-48e4-a8d3-b8b99a2328c6"
  },
  {
   "cell_type": "code",
   "execution_count": null,
   "metadata": {},
   "outputs": [],
   "source": [
    "country_stats %>%\n",
    "  mutate(percent = round(percent)) %>%\n",
    "  filter(variable == 'Max temperature of warmest month') %>%\n",
    "  select(-sum, -area) %>%\n",
    "  pivot_wider(names_from = ssp, values_from = percent) %>%\n",
    "  select(Country = name, Present = present, `SSP1-2.6`:`SSP5-8.5`) %>%\n",
    "  knitr::kable(format = 'pipe')"
   ],
   "id": "e59d784c-69bd-4c7d-8d3c-a5ee0005af7f"
  },
  {
   "cell_type": "code",
   "execution_count": null,
   "metadata": {},
   "outputs": [],
   "source": [
    "knitr::knit_exit()"
   ],
   "id": "26faee9b-84c8-4c3f-8481-b5abe967c096"
  }
 ],
 "nbformat": 4,
 "nbformat_minor": 5,
 "metadata": {}
}
